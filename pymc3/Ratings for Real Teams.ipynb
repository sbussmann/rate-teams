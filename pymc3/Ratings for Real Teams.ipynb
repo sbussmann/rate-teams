{
 "cells": [
  {
   "cell_type": "code",
   "execution_count": 1,
   "metadata": {
    "collapsed": true
   },
   "outputs": [],
   "source": [
    "import os\n",
    "import numpy as np\n",
    "import pandas as pd\n",
    "import pystan\n",
    "import matplotlib.pyplot as plt\n",
    "\n",
    "%matplotlib inline"
   ]
  },
  {
   "cell_type": "code",
   "execution_count": 2,
   "metadata": {
    "collapsed": true
   },
   "outputs": [],
   "source": [
    "base_dir = os.path.join(\"/Users\", \"sbussmann\", \"Development\", \"buda\", \"buda-ratings\")\n",
    "interim_dir = os.path.join(base_dir, 'data', 'interim')"
   ]
  },
  {
   "cell_type": "code",
   "execution_count": 3,
   "metadata": {
    "collapsed": true
   },
   "outputs": [],
   "source": [
    "league_id = 40264\n",
    "winloss = pd.read_csv(os.path.join(interim_dir, \"winloss_divprior_{}.csv\".format(league_id)))"
   ]
  },
  {
   "cell_type": "code",
   "execution_count": 4,
   "metadata": {},
   "outputs": [
    {
     "data": {
      "text/html": [
       "<div>\n",
       "<style scoped>\n",
       "    .dataframe tbody tr th:only-of-type {\n",
       "        vertical-align: middle;\n",
       "    }\n",
       "\n",
       "    .dataframe tbody tr th {\n",
       "        vertical-align: top;\n",
       "    }\n",
       "\n",
       "    .dataframe thead th {\n",
       "        text-align: right;\n",
       "    }\n",
       "</style>\n",
       "<table border=\"1\" class=\"dataframe\">\n",
       "  <thead>\n",
       "    <tr style=\"text-align: right;\">\n",
       "      <th></th>\n",
       "      <th>Team A</th>\n",
       "      <th>Team B</th>\n",
       "      <th>Team A Wins</th>\n",
       "      <th>Index A</th>\n",
       "      <th>Index B</th>\n",
       "      <th>Div A</th>\n",
       "      <th>Div B</th>\n",
       "    </tr>\n",
       "  </thead>\n",
       "  <tbody>\n",
       "    <tr>\n",
       "      <th>0</th>\n",
       "      <td>AHOC</td>\n",
       "      <td>Gothrilla</td>\n",
       "      <td>True</td>\n",
       "      <td>0</td>\n",
       "      <td>1</td>\n",
       "      <td>4/3 Div 1</td>\n",
       "      <td>4/3 Div 1</td>\n",
       "    </tr>\n",
       "    <tr>\n",
       "      <th>1</th>\n",
       "      <td>AHOC</td>\n",
       "      <td>BBN</td>\n",
       "      <td>True</td>\n",
       "      <td>0</td>\n",
       "      <td>9</td>\n",
       "      <td>4/3 Div 1</td>\n",
       "      <td>4/3 Div 1</td>\n",
       "    </tr>\n",
       "    <tr>\n",
       "      <th>2</th>\n",
       "      <td>AHOC</td>\n",
       "      <td>Stonecutters</td>\n",
       "      <td>True</td>\n",
       "      <td>0</td>\n",
       "      <td>41</td>\n",
       "      <td>4/3 Div 1</td>\n",
       "      <td>5/2 Div 1</td>\n",
       "    </tr>\n",
       "    <tr>\n",
       "      <th>3</th>\n",
       "      <td>AHOC</td>\n",
       "      <td>FlowChart</td>\n",
       "      <td>True</td>\n",
       "      <td>0</td>\n",
       "      <td>2</td>\n",
       "      <td>4/3 Div 1</td>\n",
       "      <td>4/3 Div 1</td>\n",
       "    </tr>\n",
       "    <tr>\n",
       "      <th>4</th>\n",
       "      <td>AHOC</td>\n",
       "      <td>Lady and the BAMF</td>\n",
       "      <td>True</td>\n",
       "      <td>0</td>\n",
       "      <td>28</td>\n",
       "      <td>4/3 Div 1</td>\n",
       "      <td>4/3 Div 2</td>\n",
       "    </tr>\n",
       "  </tbody>\n",
       "</table>\n",
       "</div>"
      ],
      "text/plain": [
       "  Team A             Team B  Team A Wins  Index A  Index B      Div A  \\\n",
       "0   AHOC          Gothrilla         True        0        1  4/3 Div 1   \n",
       "1   AHOC                BBN         True        0        9  4/3 Div 1   \n",
       "2   AHOC       Stonecutters         True        0       41  4/3 Div 1   \n",
       "3   AHOC          FlowChart         True        0        2  4/3 Div 1   \n",
       "4   AHOC  Lady and the BAMF         True        0       28  4/3 Div 1   \n",
       "\n",
       "       Div B  \n",
       "0  4/3 Div 1  \n",
       "1  4/3 Div 1  \n",
       "2  5/2 Div 1  \n",
       "3  4/3 Div 1  \n",
       "4  4/3 Div 2  "
      ]
     },
     "execution_count": 4,
     "metadata": {},
     "output_type": "execute_result"
    }
   ],
   "source": [
    "winloss.head()"
   ]
  },
  {
   "cell_type": "code",
   "execution_count": 5,
   "metadata": {
    "collapsed": true
   },
   "outputs": [],
   "source": [
    "winloss = winloss.rename(columns={\"Team A Wins\": \"teamAWon\", \"Index A\": \"indexA\", \"Index B\": \"indexB\"})"
   ]
  },
  {
   "cell_type": "code",
   "execution_count": 6,
   "metadata": {},
   "outputs": [
    {
     "data": {
      "text/html": [
       "<div>\n",
       "<style scoped>\n",
       "    .dataframe tbody tr th:only-of-type {\n",
       "        vertical-align: middle;\n",
       "    }\n",
       "\n",
       "    .dataframe tbody tr th {\n",
       "        vertical-align: top;\n",
       "    }\n",
       "\n",
       "    .dataframe thead th {\n",
       "        text-align: right;\n",
       "    }\n",
       "</style>\n",
       "<table border=\"1\" class=\"dataframe\">\n",
       "  <thead>\n",
       "    <tr style=\"text-align: right;\">\n",
       "      <th></th>\n",
       "      <th>Team A</th>\n",
       "      <th>Team B</th>\n",
       "      <th>teamAWon</th>\n",
       "      <th>indexA</th>\n",
       "      <th>indexB</th>\n",
       "      <th>Div A</th>\n",
       "      <th>Div B</th>\n",
       "    </tr>\n",
       "  </thead>\n",
       "  <tbody>\n",
       "    <tr>\n",
       "      <th>0</th>\n",
       "      <td>AHOC</td>\n",
       "      <td>Gothrilla</td>\n",
       "      <td>True</td>\n",
       "      <td>0</td>\n",
       "      <td>1</td>\n",
       "      <td>4/3 Div 1</td>\n",
       "      <td>4/3 Div 1</td>\n",
       "    </tr>\n",
       "    <tr>\n",
       "      <th>1</th>\n",
       "      <td>AHOC</td>\n",
       "      <td>BBN</td>\n",
       "      <td>True</td>\n",
       "      <td>0</td>\n",
       "      <td>9</td>\n",
       "      <td>4/3 Div 1</td>\n",
       "      <td>4/3 Div 1</td>\n",
       "    </tr>\n",
       "    <tr>\n",
       "      <th>2</th>\n",
       "      <td>AHOC</td>\n",
       "      <td>Stonecutters</td>\n",
       "      <td>True</td>\n",
       "      <td>0</td>\n",
       "      <td>41</td>\n",
       "      <td>4/3 Div 1</td>\n",
       "      <td>5/2 Div 1</td>\n",
       "    </tr>\n",
       "    <tr>\n",
       "      <th>3</th>\n",
       "      <td>AHOC</td>\n",
       "      <td>FlowChart</td>\n",
       "      <td>True</td>\n",
       "      <td>0</td>\n",
       "      <td>2</td>\n",
       "      <td>4/3 Div 1</td>\n",
       "      <td>4/3 Div 1</td>\n",
       "    </tr>\n",
       "    <tr>\n",
       "      <th>4</th>\n",
       "      <td>AHOC</td>\n",
       "      <td>Lady and the BAMF</td>\n",
       "      <td>True</td>\n",
       "      <td>0</td>\n",
       "      <td>28</td>\n",
       "      <td>4/3 Div 1</td>\n",
       "      <td>4/3 Div 2</td>\n",
       "    </tr>\n",
       "  </tbody>\n",
       "</table>\n",
       "</div>"
      ],
      "text/plain": [
       "  Team A             Team B  teamAWon  indexA  indexB      Div A      Div B\n",
       "0   AHOC          Gothrilla      True       0       1  4/3 Div 1  4/3 Div 1\n",
       "1   AHOC                BBN      True       0       9  4/3 Div 1  4/3 Div 1\n",
       "2   AHOC       Stonecutters      True       0      41  4/3 Div 1  5/2 Div 1\n",
       "3   AHOC          FlowChart      True       0       2  4/3 Div 1  4/3 Div 1\n",
       "4   AHOC  Lady and the BAMF      True       0      28  4/3 Div 1  4/3 Div 2"
      ]
     },
     "execution_count": 6,
     "metadata": {},
     "output_type": "execute_result"
    }
   ],
   "source": [
    "winloss.head()"
   ]
  },
  {
   "cell_type": "code",
   "execution_count": 7,
   "metadata": {
    "collapsed": true
   },
   "outputs": [],
   "source": [
    "div_mapper = {\n",
    "    \"4/3 Div 1\": 2.0,\n",
    "    \"4/3 Div 2\": 0.0,\n",
    "    \"4/3 Div 3\": -1.0,\n",
    "    \"5/2 Div 1\": 2.0,\n",
    "    \"5/2 Div 2\": 0.0,\n",
    "    \"5/2 Div 3\": -1.0\n",
    "}"
   ]
  },
  {
   "cell_type": "code",
   "execution_count": 8,
   "metadata": {
    "collapsed": true
   },
   "outputs": [],
   "source": [
    "winloss[\"muA\"] = winloss[\"Div A\"].apply(lambda x: div_mapper[x])\n",
    "winloss[\"muB\"] = winloss[\"Div B\"].apply(lambda x: div_mapper[x])"
   ]
  },
  {
   "cell_type": "code",
   "execution_count": 9,
   "metadata": {
    "collapsed": true
   },
   "outputs": [],
   "source": [
    "winloss[\"teamAWon\"] = winloss[\"teamAWon\"].astype(\"int\")"
   ]
  },
  {
   "cell_type": "code",
   "execution_count": 10,
   "metadata": {},
   "outputs": [
    {
     "data": {
      "text/html": [
       "<div>\n",
       "<style scoped>\n",
       "    .dataframe tbody tr th:only-of-type {\n",
       "        vertical-align: middle;\n",
       "    }\n",
       "\n",
       "    .dataframe tbody tr th {\n",
       "        vertical-align: top;\n",
       "    }\n",
       "\n",
       "    .dataframe thead th {\n",
       "        text-align: right;\n",
       "    }\n",
       "</style>\n",
       "<table border=\"1\" class=\"dataframe\">\n",
       "  <thead>\n",
       "    <tr style=\"text-align: right;\">\n",
       "      <th></th>\n",
       "      <th>Team A</th>\n",
       "      <th>Team B</th>\n",
       "      <th>teamAWon</th>\n",
       "      <th>indexA</th>\n",
       "      <th>indexB</th>\n",
       "      <th>Div A</th>\n",
       "      <th>Div B</th>\n",
       "      <th>muA</th>\n",
       "      <th>muB</th>\n",
       "    </tr>\n",
       "  </thead>\n",
       "  <tbody>\n",
       "    <tr>\n",
       "      <th>0</th>\n",
       "      <td>AHOC</td>\n",
       "      <td>Gothrilla</td>\n",
       "      <td>1</td>\n",
       "      <td>0</td>\n",
       "      <td>1</td>\n",
       "      <td>4/3 Div 1</td>\n",
       "      <td>4/3 Div 1</td>\n",
       "      <td>2.0</td>\n",
       "      <td>2.0</td>\n",
       "    </tr>\n",
       "    <tr>\n",
       "      <th>1</th>\n",
       "      <td>AHOC</td>\n",
       "      <td>BBN</td>\n",
       "      <td>1</td>\n",
       "      <td>0</td>\n",
       "      <td>9</td>\n",
       "      <td>4/3 Div 1</td>\n",
       "      <td>4/3 Div 1</td>\n",
       "      <td>2.0</td>\n",
       "      <td>2.0</td>\n",
       "    </tr>\n",
       "    <tr>\n",
       "      <th>2</th>\n",
       "      <td>AHOC</td>\n",
       "      <td>Stonecutters</td>\n",
       "      <td>1</td>\n",
       "      <td>0</td>\n",
       "      <td>41</td>\n",
       "      <td>4/3 Div 1</td>\n",
       "      <td>5/2 Div 1</td>\n",
       "      <td>2.0</td>\n",
       "      <td>2.0</td>\n",
       "    </tr>\n",
       "    <tr>\n",
       "      <th>3</th>\n",
       "      <td>AHOC</td>\n",
       "      <td>FlowChart</td>\n",
       "      <td>1</td>\n",
       "      <td>0</td>\n",
       "      <td>2</td>\n",
       "      <td>4/3 Div 1</td>\n",
       "      <td>4/3 Div 1</td>\n",
       "      <td>2.0</td>\n",
       "      <td>2.0</td>\n",
       "    </tr>\n",
       "    <tr>\n",
       "      <th>4</th>\n",
       "      <td>AHOC</td>\n",
       "      <td>Lady and the BAMF</td>\n",
       "      <td>1</td>\n",
       "      <td>0</td>\n",
       "      <td>28</td>\n",
       "      <td>4/3 Div 1</td>\n",
       "      <td>4/3 Div 2</td>\n",
       "      <td>2.0</td>\n",
       "      <td>0.0</td>\n",
       "    </tr>\n",
       "  </tbody>\n",
       "</table>\n",
       "</div>"
      ],
      "text/plain": [
       "  Team A             Team B  teamAWon  indexA  indexB      Div A      Div B  \\\n",
       "0   AHOC          Gothrilla         1       0       1  4/3 Div 1  4/3 Div 1   \n",
       "1   AHOC                BBN         1       0       9  4/3 Div 1  4/3 Div 1   \n",
       "2   AHOC       Stonecutters         1       0      41  4/3 Div 1  5/2 Div 1   \n",
       "3   AHOC          FlowChart         1       0       2  4/3 Div 1  4/3 Div 1   \n",
       "4   AHOC  Lady and the BAMF         1       0      28  4/3 Div 1  4/3 Div 2   \n",
       "\n",
       "   muA  muB  \n",
       "0  2.0  2.0  \n",
       "1  2.0  2.0  \n",
       "2  2.0  2.0  \n",
       "3  2.0  2.0  \n",
       "4  2.0  0.0  "
      ]
     },
     "execution_count": 10,
     "metadata": {},
     "output_type": "execute_result"
    }
   ],
   "source": [
    "winloss.head()"
   ]
  },
  {
   "cell_type": "code",
   "execution_count": 12,
   "metadata": {
    "collapsed": true
   },
   "outputs": [],
   "source": [
    "wldict = {}\n",
    "for col in [\"indexA\", \"indexB\", \"teamAWon\"]:\n",
    "    wldict[col] = list(winloss[col].values)"
   ]
  },
  {
   "cell_type": "code",
   "execution_count": 13,
   "metadata": {},
   "outputs": [
    {
     "data": {
      "text/plain": [
       "dict_keys(['indexA', 'indexB', 'teamAWon'])"
      ]
     },
     "execution_count": 13,
     "metadata": {},
     "output_type": "execute_result"
    }
   ],
   "source": [
    "wldict.keys()"
   ]
  },
  {
   "cell_type": "code",
   "execution_count": 14,
   "metadata": {
    "collapsed": true
   },
   "outputs": [],
   "source": [
    "teams = set(np.append(winloss['Team A'].unique(), winloss['Team B'].unique()))"
   ]
  },
  {
   "cell_type": "code",
   "execution_count": 15,
   "metadata": {
    "collapsed": true
   },
   "outputs": [],
   "source": [
    "n_teams = len(teams)"
   ]
  },
  {
   "cell_type": "code",
   "execution_count": 16,
   "metadata": {
    "collapsed": true
   },
   "outputs": [],
   "source": [
    "n_games = len(winloss)"
   ]
  },
  {
   "cell_type": "code",
   "execution_count": 17,
   "metadata": {
    "collapsed": true
   },
   "outputs": [],
   "source": [
    "wldict[\"nTeams\"] = n_teams\n",
    "wldict[\"nGames\"] = n_games"
   ]
  },
  {
   "cell_type": "code",
   "execution_count": 21,
   "metadata": {
    "collapsed": true
   },
   "outputs": [],
   "source": [
    "ratings_code = \"\"\"\n",
    "\"\"\""
   ]
  },
  {
   "cell_type": "code",
   "execution_count": 22,
   "metadata": {
    "scrolled": true
   },
   "outputs": [
    {
     "name": "stderr",
     "output_type": "stream",
     "text": [
      "INFO:pystan:COMPILING THE C++ CODE FOR MODEL anon_model_bddb90e1e93aae5433148fbfb388b3c2 NOW.\n"
     ]
    }
   ],
   "source": [
    "sm = pystan.StanModel(model_code=ratings_code)"
   ]
  },
  {
   "cell_type": "code",
   "execution_count": 23,
   "metadata": {
    "collapsed": true
   },
   "outputs": [],
   "source": [
    "fit = sm.sampling(data=wldict, iter=1000, chains=4)"
   ]
  },
  {
   "cell_type": "code",
   "execution_count": 24,
   "metadata": {},
   "outputs": [
    {
     "data": {
      "image/png": "[encoded data removed]",
      "text/plain": [
       "<Figure size 432x288 with 2 Axes>"
      ]
     },
     "metadata": {},
     "output_type": "display_data"
    }
   ],
   "source": [
    "fit.plot()\n",
    "plt.tight_layout()"
   ]
  },
  {
   "cell_type": "code",
   "execution_count": 25,
   "metadata": {
    "collapsed": true
   },
   "outputs": [],
   "source": [
    "traces = fit.extract()"
   ]
  },
  {
   "cell_type": "code",
   "execution_count": 26,
   "metadata": {},
   "outputs": [
    {
     "data": {
      "text/plain": [
       "odict_keys(['teamSkill', 'lp__'])"
      ]
     },
     "execution_count": 26,
     "metadata": {},
     "output_type": "execute_result"
    }
   ],
   "source": [
    "traces.keys()"
   ]
  },
  {
   "cell_type": "code",
   "execution_count": 27,
   "metadata": {
    "collapsed": true
   },
   "outputs": [],
   "source": [
    "skillTrace = traces['teamSkill']"
   ]
  },
  {
   "cell_type": "code",
   "execution_count": 28,
   "metadata": {
    "collapsed": true
   },
   "outputs": [],
   "source": [
    "meanratings = skillTrace.mean(axis=0)"
   ]
  },
  {
   "cell_type": "code",
   "execution_count": 29,
   "metadata": {},
   "outputs": [
    {
     "data": {
      "text/plain": [
       "array([-2.3974064 , -1.22209441, -1.23773676, -0.61155811, -1.33430882,\n",
       "       -0.03940512, -0.02797729,  0.12283814,  0.30493958,  0.65402901,\n",
       "       -1.3158078 , -1.72175014, -1.23258711, -0.82457319, -1.53878844,\n",
       "       -0.79594397, -0.41458294, -0.34798993, -0.6507827 , -0.06322377,\n",
       "       -0.09098328,  0.2001853 ,  0.07251813,  0.1007075 ,  0.0268756 ,\n",
       "        0.37576665,  0.50198721,  0.51320881,  0.9699971 ,  1.55631871,\n",
       "        1.26938037,  2.13926038, -0.81937229, -0.22514739,  0.64355225,\n",
       "        0.69556654,  0.92070367,  0.59173993,  1.15573481,  1.69894337,\n",
       "       -1.56436967, -1.11226871,  0.20348399, -1.4119317 , -1.6034866 ,\n",
       "       -1.19491396, -1.43147563, -0.77294305, -0.67544932, -0.24345638,\n",
       "       -0.27753312, -0.06238716,  0.30486363,  1.16493296,  0.15082868,\n",
       "       -0.18178387, -0.27905062,  0.29592242,  0.41495524,  0.74778333,\n",
       "        0.67265656,  1.56872704,  1.76384268,  1.33270446,  1.04409928,\n",
       "        1.40129471,  1.94141425])"
      ]
     },
     "execution_count": 29,
     "metadata": {},
     "output_type": "execute_result"
    }
   ],
   "source": [
    "meanratings"
   ]
  },
  {
   "cell_type": "code",
   "execution_count": 30,
   "metadata": {
    "collapsed": true
   },
   "outputs": [],
   "source": [
    "names = []\n",
    "for i, meanrating in enumerate(meanratings):\n",
    "    if i in winloss['indexA'].values:\n",
    "        index = winloss['indexA'] == i\n",
    "        name = winloss.loc[index, 'Team A'].unique()[0]\n",
    "    else:\n",
    "        index = winloss['indexB'] == i\n",
    "        name = winloss.loc[index, 'Team B'].unique()[0]\n",
    "    names.append(name)"
   ]
  },
  {
   "cell_type": "code",
   "execution_count": 31,
   "metadata": {
    "collapsed": true
   },
   "outputs": [],
   "source": [
    "ratingsdf = pd.DataFrame({\n",
    "    'mean_rating': meanratings\n",
    "}, index=names)"
   ]
  },
  {
   "cell_type": "code",
   "execution_count": 32,
   "metadata": {},
   "outputs": [
    {
     "data": {
      "text/html": [
       "<div>\n",
       "<style scoped>\n",
       "    .dataframe tbody tr th:only-of-type {\n",
       "        vertical-align: middle;\n",
       "    }\n",
       "\n",
       "    .dataframe tbody tr th {\n",
       "        vertical-align: top;\n",
       "    }\n",
       "\n",
       "    .dataframe thead th {\n",
       "        text-align: right;\n",
       "    }\n",
       "</style>\n",
       "<table border=\"1\" class=\"dataframe\">\n",
       "  <thead>\n",
       "    <tr style=\"text-align: right;\">\n",
       "      <th></th>\n",
       "      <th>mean_rating</th>\n",
       "    </tr>\n",
       "  </thead>\n",
       "  <tbody>\n",
       "    <tr>\n",
       "      <th>AHOC</th>\n",
       "      <td>-2.397406</td>\n",
       "    </tr>\n",
       "    <tr>\n",
       "      <th>Gothrilla</th>\n",
       "      <td>-1.222094</td>\n",
       "    </tr>\n",
       "    <tr>\n",
       "      <th>FlowChart</th>\n",
       "      <td>-1.237737</td>\n",
       "    </tr>\n",
       "    <tr>\n",
       "      <th>GrassBurner</th>\n",
       "      <td>-0.611558</td>\n",
       "    </tr>\n",
       "    <tr>\n",
       "      <th>Zerg Rush!</th>\n",
       "      <td>-1.334309</td>\n",
       "    </tr>\n",
       "    <tr>\n",
       "      <th>Swingers</th>\n",
       "      <td>-0.039405</td>\n",
       "    </tr>\n",
       "    <tr>\n",
       "      <th>TuneSquad</th>\n",
       "      <td>-0.027977</td>\n",
       "    </tr>\n",
       "    <tr>\n",
       "      <th>Turtle Boy</th>\n",
       "      <td>0.122838</td>\n",
       "    </tr>\n",
       "    <tr>\n",
       "      <th>Live Poultry, Fresh Killed (LPFK)</th>\n",
       "      <td>0.304940</td>\n",
       "    </tr>\n",
       "    <tr>\n",
       "      <th>BBN</th>\n",
       "      <td>0.654029</td>\n",
       "    </tr>\n",
       "    <tr>\n",
       "      <th>Upstream</th>\n",
       "      <td>-1.315808</td>\n",
       "    </tr>\n",
       "    <tr>\n",
       "      <th>Injustice League</th>\n",
       "      <td>-1.721750</td>\n",
       "    </tr>\n",
       "    <tr>\n",
       "      <th>Puddingstone</th>\n",
       "      <td>-1.232587</td>\n",
       "    </tr>\n",
       "    <tr>\n",
       "      <th>Flaming Croissants</th>\n",
       "      <td>-0.824573</td>\n",
       "    </tr>\n",
       "    <tr>\n",
       "      <th>Jack's Abby HAOS Lager</th>\n",
       "      <td>-1.538788</td>\n",
       "    </tr>\n",
       "    <tr>\n",
       "      <th>License to Kilt (fka Scoobers in Scotland)</th>\n",
       "      <td>-0.795944</td>\n",
       "    </tr>\n",
       "    <tr>\n",
       "      <th>Toads</th>\n",
       "      <td>-0.414583</td>\n",
       "    </tr>\n",
       "    <tr>\n",
       "      <th>JHOP</th>\n",
       "      <td>-0.347990</td>\n",
       "    </tr>\n",
       "    <tr>\n",
       "      <th>Rubs The Duckie</th>\n",
       "      <td>-0.650783</td>\n",
       "    </tr>\n",
       "    <tr>\n",
       "      <th>Disc Envy</th>\n",
       "      <td>-0.063224</td>\n",
       "    </tr>\n",
       "    <tr>\n",
       "      <th>Store Bought Dirt</th>\n",
       "      <td>-0.090983</td>\n",
       "    </tr>\n",
       "    <tr>\n",
       "      <th>Fetch</th>\n",
       "      <td>0.200185</td>\n",
       "    </tr>\n",
       "    <tr>\n",
       "      <th>Booooooosh!</th>\n",
       "      <td>0.072518</td>\n",
       "    </tr>\n",
       "    <tr>\n",
       "      <th>Dominion</th>\n",
       "      <td>0.100708</td>\n",
       "    </tr>\n",
       "    <tr>\n",
       "      <th>Rogues' Gallery</th>\n",
       "      <td>0.026876</td>\n",
       "    </tr>\n",
       "    <tr>\n",
       "      <th>A Lil Bit Sticky</th>\n",
       "      <td>0.375767</td>\n",
       "    </tr>\n",
       "    <tr>\n",
       "      <th>Nerd Alert</th>\n",
       "      <td>0.501987</td>\n",
       "    </tr>\n",
       "    <tr>\n",
       "      <th>Moose Lightning</th>\n",
       "      <td>0.513209</td>\n",
       "    </tr>\n",
       "    <tr>\n",
       "      <th>Lady and the BAMF</th>\n",
       "      <td>0.969997</td>\n",
       "    </tr>\n",
       "    <tr>\n",
       "      <th>Tubbs</th>\n",
       "      <td>1.556319</td>\n",
       "    </tr>\n",
       "    <tr>\n",
       "      <th>...</th>\n",
       "      <td>...</td>\n",
       "    </tr>\n",
       "    <tr>\n",
       "      <th>Baboon Heart</th>\n",
       "      <td>0.591740</td>\n",
       "    </tr>\n",
       "    <tr>\n",
       "      <th>Top Shelf</th>\n",
       "      <td>1.155735</td>\n",
       "    </tr>\n",
       "    <tr>\n",
       "      <th>123 Trap!</th>\n",
       "      <td>1.698943</td>\n",
       "    </tr>\n",
       "    <tr>\n",
       "      <th>SnakeCountryBromance</th>\n",
       "      <td>-1.564370</td>\n",
       "    </tr>\n",
       "    <tr>\n",
       "      <th>Stonecutters</th>\n",
       "      <td>-1.112269</td>\n",
       "    </tr>\n",
       "    <tr>\n",
       "      <th>Shake and Bake</th>\n",
       "      <td>0.203484</td>\n",
       "    </tr>\n",
       "    <tr>\n",
       "      <th>JuJu Hex</th>\n",
       "      <td>-1.411932</td>\n",
       "    </tr>\n",
       "    <tr>\n",
       "      <th>Pink Flamingos</th>\n",
       "      <td>-1.603487</td>\n",
       "    </tr>\n",
       "    <tr>\n",
       "      <th>Baba Yaga</th>\n",
       "      <td>-1.194914</td>\n",
       "    </tr>\n",
       "    <tr>\n",
       "      <th>Maverick</th>\n",
       "      <td>-1.431476</td>\n",
       "    </tr>\n",
       "    <tr>\n",
       "      <th>Hippos</th>\n",
       "      <td>-0.772943</td>\n",
       "    </tr>\n",
       "    <tr>\n",
       "      <th>Bacon</th>\n",
       "      <td>-0.675449</td>\n",
       "    </tr>\n",
       "    <tr>\n",
       "      <th>Get Flat Ultimate</th>\n",
       "      <td>-0.243456</td>\n",
       "    </tr>\n",
       "    <tr>\n",
       "      <th>Hucky McThrowandcatch</th>\n",
       "      <td>-0.277533</td>\n",
       "    </tr>\n",
       "    <tr>\n",
       "      <th>SHRedline</th>\n",
       "      <td>-0.062387</td>\n",
       "    </tr>\n",
       "    <tr>\n",
       "      <th>The Funky Bunch</th>\n",
       "      <td>0.304864</td>\n",
       "    </tr>\n",
       "    <tr>\n",
       "      <th>Iron Squids</th>\n",
       "      <td>1.164933</td>\n",
       "    </tr>\n",
       "    <tr>\n",
       "      <th>Rabbit Disc</th>\n",
       "      <td>0.150829</td>\n",
       "    </tr>\n",
       "    <tr>\n",
       "      <th>Granite State Grass Stains</th>\n",
       "      <td>-0.181784</td>\n",
       "    </tr>\n",
       "    <tr>\n",
       "      <th>Flying Salsa</th>\n",
       "      <td>-0.279051</td>\n",
       "    </tr>\n",
       "    <tr>\n",
       "      <th>Demons</th>\n",
       "      <td>0.295922</td>\n",
       "    </tr>\n",
       "    <tr>\n",
       "      <th>Alpha No Beta</th>\n",
       "      <td>0.414955</td>\n",
       "    </tr>\n",
       "    <tr>\n",
       "      <th>Tofu Wolf</th>\n",
       "      <td>0.747783</td>\n",
       "    </tr>\n",
       "    <tr>\n",
       "      <th>Spam</th>\n",
       "      <td>0.672657</td>\n",
       "    </tr>\n",
       "    <tr>\n",
       "      <th>Killer Bees</th>\n",
       "      <td>1.568727</td>\n",
       "    </tr>\n",
       "    <tr>\n",
       "      <th>THEM!</th>\n",
       "      <td>1.763843</td>\n",
       "    </tr>\n",
       "    <tr>\n",
       "      <th>Jiggy</th>\n",
       "      <td>1.332704</td>\n",
       "    </tr>\n",
       "    <tr>\n",
       "      <th>SIR!</th>\n",
       "      <td>1.044099</td>\n",
       "    </tr>\n",
       "    <tr>\n",
       "      <th>M.O.B.</th>\n",
       "      <td>1.401295</td>\n",
       "    </tr>\n",
       "    <tr>\n",
       "      <th>Spawning Alewives</th>\n",
       "      <td>1.941414</td>\n",
       "    </tr>\n",
       "  </tbody>\n",
       "</table>\n",
       "<p>67 rows × 1 columns</p>\n",
       "</div>"
      ],
      "text/plain": [
       "                                            mean_rating\n",
       "AHOC                                          -2.397406\n",
       "Gothrilla                                     -1.222094\n",
       "FlowChart                                     -1.237737\n",
       "GrassBurner                                   -0.611558\n",
       "Zerg Rush!                                    -1.334309\n",
       "Swingers                                      -0.039405\n",
       "TuneSquad                                     -0.027977\n",
       "Turtle Boy                                     0.122838\n",
       "Live Poultry, Fresh Killed (LPFK)              0.304940\n",
       "BBN                                            0.654029\n",
       "Upstream                                      -1.315808\n",
       "Injustice League                              -1.721750\n",
       "Puddingstone                                  -1.232587\n",
       "Flaming Croissants                            -0.824573\n",
       "Jack's Abby HAOS Lager                        -1.538788\n",
       "License to Kilt (fka Scoobers in Scotland)    -0.795944\n",
       "Toads                                         -0.414583\n",
       "JHOP                                          -0.347990\n",
       "Rubs The Duckie                               -0.650783\n",
       "Disc Envy                                     -0.063224\n",
       "Store Bought Dirt                             -0.090983\n",
       "Fetch                                          0.200185\n",
       "Booooooosh!                                    0.072518\n",
       "Dominion                                       0.100708\n",
       "Rogues' Gallery                                0.026876\n",
       "A Lil Bit Sticky                               0.375767\n",
       "Nerd Alert                                     0.501987\n",
       "Moose Lightning                                0.513209\n",
       "Lady and the BAMF                              0.969997\n",
       "Tubbs                                          1.556319\n",
       "...                                                 ...\n",
       "Baboon Heart                                   0.591740\n",
       "Top Shelf                                      1.155735\n",
       "123 Trap!                                      1.698943\n",
       "SnakeCountryBromance                          -1.564370\n",
       "Stonecutters                                  -1.112269\n",
       "Shake and Bake                                 0.203484\n",
       "JuJu Hex                                      -1.411932\n",
       "Pink Flamingos                                -1.603487\n",
       "Baba Yaga                                     -1.194914\n",
       "Maverick                                      -1.431476\n",
       "Hippos                                        -0.772943\n",
       "Bacon                                         -0.675449\n",
       "Get Flat Ultimate                             -0.243456\n",
       "Hucky McThrowandcatch                         -0.277533\n",
       "SHRedline                                     -0.062387\n",
       "The Funky Bunch                                0.304864\n",
       "Iron Squids                                    1.164933\n",
       "Rabbit Disc                                    0.150829\n",
       "Granite State Grass Stains                    -0.181784\n",
       "Flying Salsa                                  -0.279051\n",
       "Demons                                         0.295922\n",
       "Alpha No Beta                                  0.414955\n",
       "Tofu Wolf                                      0.747783\n",
       "Spam                                           0.672657\n",
       "Killer Bees                                    1.568727\n",
       "THEM!                                          1.763843\n",
       "Jiggy                                          1.332704\n",
       "SIR!                                           1.044099\n",
       "M.O.B.                                         1.401295\n",
       "Spawning Alewives                              1.941414\n",
       "\n",
       "[67 rows x 1 columns]"
      ]
     },
     "execution_count": 32,
     "metadata": {},
     "output_type": "execute_result"
    }
   ],
   "source": [
    "ratingsdf"
   ]
  },
  {
   "cell_type": "code",
   "execution_count": null,
   "metadata": {
    "collapsed": true
   },
   "outputs": [],
   "source": []
  }
 ],
 "metadata": {
  "kernelspec": {
   "display_name": "Python [conda env:stan-env]",
   "language": "python",
   "name": "conda-env-stan-env-py"
  },
  "language_info": {
   "codemirror_mode": {
    "name": "ipython",
    "version": 3
   },
   "file_extension": ".py",
   "mimetype": "text/x-python",
   "name": "python",
   "nbconvert_exporter": "python",
   "pygments_lexer": "ipython3",
   "version": "3.6.5"
  }
 },
 "nbformat": 4,
 "nbformat_minor": 2
}
