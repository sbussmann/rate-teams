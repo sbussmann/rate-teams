{
 "cells": [
  {
   "cell_type": "markdown",
   "metadata": {},
   "source": [
    "# Summary\n",
    "\n",
    "Manipulate the data into two distinct formats for pedagogical reasons."
   ]
  },
  {
   "cell_type": "code",
   "execution_count": 99,
   "metadata": {
    "collapsed": true
   },
   "outputs": [],
   "source": [
    "import os\n",
    "import pandas as pd"
   ]
  },
  {
   "cell_type": "code",
   "execution_count": 100,
   "metadata": {
    "collapsed": true
   },
   "outputs": [],
   "source": [
    "base_dir = os.path.join(\"/Users\", \"sbussmann\", \"Development\", \"buda\", \"buda-ratings\")\n",
    "scores_dir = os.path.join(base_dir, \"data\", \"raw\", \"game_scores\")\n",
    "interim_dir = os.path.join(base_dir, \"data\", \"interim\")"
   ]
  },
  {
   "cell_type": "code",
   "execution_count": 101,
   "metadata": {
    "collapsed": true
   },
   "outputs": [],
   "source": [
    "# summer club league 2016\n",
    "league_id = 40264"
   ]
  },
  {
   "cell_type": "code",
   "execution_count": 102,
   "metadata": {
    "collapsed": true
   },
   "outputs": [],
   "source": [
    "file_name = \"scores_{}.csv\".format(league_id)"
   ]
  },
  {
   "cell_type": "code",
   "execution_count": 103,
   "metadata": {
    "collapsed": true
   },
   "outputs": [],
   "source": [
    "file_path = os.path.join(scores_dir, file_name)"
   ]
  },
  {
   "cell_type": "code",
   "execution_count": 104,
   "metadata": {
    "collapsed": true
   },
   "outputs": [],
   "source": [
    "scores = pd.read_csv(file_path)"
   ]
  },
  {
   "cell_type": "code",
   "execution_count": 105,
   "metadata": {},
   "outputs": [
    {
     "data": {
      "text/html": [
       "<div>\n",
       "<style>\n",
       "    .dataframe thead tr:only-child th {\n",
       "        text-align: right;\n",
       "    }\n",
       "\n",
       "    .dataframe thead th {\n",
       "        text-align: left;\n",
       "    }\n",
       "\n",
       "    .dataframe tbody tr th {\n",
       "        vertical-align: top;\n",
       "    }\n",
       "</style>\n",
       "<table border=\"1\" class=\"dataframe\">\n",
       "  <thead>\n",
       "    <tr style=\"text-align: right;\">\n",
       "      <th></th>\n",
       "      <th>Team A</th>\n",
       "      <th>Team B</th>\n",
       "      <th>Tourney Qualifying games*</th>\n",
       "      <th>divname</th>\n",
       "      <th>Score A</th>\n",
       "      <th>Score B</th>\n",
       "    </tr>\n",
       "  </thead>\n",
       "  <tbody>\n",
       "    <tr>\n",
       "      <th>0</th>\n",
       "      <td>AHOC</td>\n",
       "      <td>Gothrilla</td>\n",
       "      <td>-99</td>\n",
       "      <td>4/3 Div 1</td>\n",
       "      <td>15</td>\n",
       "      <td>12</td>\n",
       "    </tr>\n",
       "    <tr>\n",
       "      <th>1</th>\n",
       "      <td>AHOC</td>\n",
       "      <td>BBN</td>\n",
       "      <td>-99</td>\n",
       "      <td>4/3 Div 1</td>\n",
       "      <td>15</td>\n",
       "      <td>1</td>\n",
       "    </tr>\n",
       "    <tr>\n",
       "      <th>2</th>\n",
       "      <td>AHOC</td>\n",
       "      <td>Stonecutters</td>\n",
       "      <td>-99</td>\n",
       "      <td>4/3 Div 1</td>\n",
       "      <td>15</td>\n",
       "      <td>8</td>\n",
       "    </tr>\n",
       "    <tr>\n",
       "      <th>3</th>\n",
       "      <td>AHOC</td>\n",
       "      <td>FlowChart</td>\n",
       "      <td>-99</td>\n",
       "      <td>4/3 Div 1</td>\n",
       "      <td>15</td>\n",
       "      <td>10</td>\n",
       "    </tr>\n",
       "    <tr>\n",
       "      <th>4</th>\n",
       "      <td>AHOC</td>\n",
       "      <td>Lady and the BAMF</td>\n",
       "      <td>-99</td>\n",
       "      <td>4/3 Div 1</td>\n",
       "      <td>15</td>\n",
       "      <td>5</td>\n",
       "    </tr>\n",
       "  </tbody>\n",
       "</table>\n",
       "</div>"
      ],
      "text/plain": [
       "  Team A             Team B  Tourney Qualifying games*    divname  Score A  \\\n",
       "0   AHOC          Gothrilla                        -99  4/3 Div 1       15   \n",
       "1   AHOC                BBN                        -99  4/3 Div 1       15   \n",
       "2   AHOC       Stonecutters                        -99  4/3 Div 1       15   \n",
       "3   AHOC          FlowChart                        -99  4/3 Div 1       15   \n",
       "4   AHOC  Lady and the BAMF                        -99  4/3 Div 1       15   \n",
       "\n",
       "   Score B  \n",
       "0       12  \n",
       "1        1  \n",
       "2        8  \n",
       "3       10  \n",
       "4        5  "
      ]
     },
     "execution_count": 105,
     "metadata": {},
     "output_type": "execute_result"
    }
   ],
   "source": [
    "scores.head()"
   ]
  },
  {
   "cell_type": "code",
   "execution_count": 106,
   "metadata": {
    "collapsed": true
   },
   "outputs": [],
   "source": [
    "winloss = scores.copy()"
   ]
  },
  {
   "cell_type": "code",
   "execution_count": 107,
   "metadata": {
    "collapsed": true
   },
   "outputs": [],
   "source": [
    "winloss['Team A Wins'] = winloss['Score A'] > winloss['Score B']"
   ]
  },
  {
   "cell_type": "code",
   "execution_count": 108,
   "metadata": {},
   "outputs": [
    {
     "data": {
      "text/html": [
       "<div>\n",
       "<style>\n",
       "    .dataframe thead tr:only-child th {\n",
       "        text-align: right;\n",
       "    }\n",
       "\n",
       "    .dataframe thead th {\n",
       "        text-align: left;\n",
       "    }\n",
       "\n",
       "    .dataframe tbody tr th {\n",
       "        vertical-align: top;\n",
       "    }\n",
       "</style>\n",
       "<table border=\"1\" class=\"dataframe\">\n",
       "  <thead>\n",
       "    <tr style=\"text-align: right;\">\n",
       "      <th></th>\n",
       "      <th>Team A</th>\n",
       "      <th>Team B</th>\n",
       "      <th>Tourney Qualifying games*</th>\n",
       "      <th>divname</th>\n",
       "      <th>Score A</th>\n",
       "      <th>Score B</th>\n",
       "      <th>Team A Wins</th>\n",
       "    </tr>\n",
       "  </thead>\n",
       "  <tbody>\n",
       "    <tr>\n",
       "      <th>0</th>\n",
       "      <td>AHOC</td>\n",
       "      <td>Gothrilla</td>\n",
       "      <td>-99</td>\n",
       "      <td>4/3 Div 1</td>\n",
       "      <td>15</td>\n",
       "      <td>12</td>\n",
       "      <td>True</td>\n",
       "    </tr>\n",
       "    <tr>\n",
       "      <th>1</th>\n",
       "      <td>AHOC</td>\n",
       "      <td>BBN</td>\n",
       "      <td>-99</td>\n",
       "      <td>4/3 Div 1</td>\n",
       "      <td>15</td>\n",
       "      <td>1</td>\n",
       "      <td>True</td>\n",
       "    </tr>\n",
       "    <tr>\n",
       "      <th>2</th>\n",
       "      <td>AHOC</td>\n",
       "      <td>Stonecutters</td>\n",
       "      <td>-99</td>\n",
       "      <td>4/3 Div 1</td>\n",
       "      <td>15</td>\n",
       "      <td>8</td>\n",
       "      <td>True</td>\n",
       "    </tr>\n",
       "    <tr>\n",
       "      <th>3</th>\n",
       "      <td>AHOC</td>\n",
       "      <td>FlowChart</td>\n",
       "      <td>-99</td>\n",
       "      <td>4/3 Div 1</td>\n",
       "      <td>15</td>\n",
       "      <td>10</td>\n",
       "      <td>True</td>\n",
       "    </tr>\n",
       "    <tr>\n",
       "      <th>4</th>\n",
       "      <td>AHOC</td>\n",
       "      <td>Lady and the BAMF</td>\n",
       "      <td>-99</td>\n",
       "      <td>4/3 Div 1</td>\n",
       "      <td>15</td>\n",
       "      <td>5</td>\n",
       "      <td>True</td>\n",
       "    </tr>\n",
       "    <tr>\n",
       "      <th>5</th>\n",
       "      <td>AHOC</td>\n",
       "      <td>Swingers</td>\n",
       "      <td>-99</td>\n",
       "      <td>4/3 Div 1</td>\n",
       "      <td>15</td>\n",
       "      <td>11</td>\n",
       "      <td>True</td>\n",
       "    </tr>\n",
       "    <tr>\n",
       "      <th>6</th>\n",
       "      <td>AHOC</td>\n",
       "      <td>Upstream</td>\n",
       "      <td>-99</td>\n",
       "      <td>4/3 Div 1</td>\n",
       "      <td>15</td>\n",
       "      <td>10</td>\n",
       "      <td>True</td>\n",
       "    </tr>\n",
       "    <tr>\n",
       "      <th>7</th>\n",
       "      <td>AHOC</td>\n",
       "      <td>Tubbs</td>\n",
       "      <td>-99</td>\n",
       "      <td>4/3 Div 1</td>\n",
       "      <td>15</td>\n",
       "      <td>6</td>\n",
       "      <td>True</td>\n",
       "    </tr>\n",
       "    <tr>\n",
       "      <th>8</th>\n",
       "      <td>AHOC</td>\n",
       "      <td>Stonecutters</td>\n",
       "      <td>-99</td>\n",
       "      <td>4/3 Div 1</td>\n",
       "      <td>15</td>\n",
       "      <td>10</td>\n",
       "      <td>True</td>\n",
       "    </tr>\n",
       "    <tr>\n",
       "      <th>9</th>\n",
       "      <td>AHOC</td>\n",
       "      <td>Zerg Rush!</td>\n",
       "      <td>-99</td>\n",
       "      <td>4/3 Div 1</td>\n",
       "      <td>15</td>\n",
       "      <td>8</td>\n",
       "      <td>True</td>\n",
       "    </tr>\n",
       "    <tr>\n",
       "      <th>10</th>\n",
       "      <td>AHOC</td>\n",
       "      <td>Turtle Boy</td>\n",
       "      <td>-99</td>\n",
       "      <td>4/3 Div 1</td>\n",
       "      <td>15</td>\n",
       "      <td>6</td>\n",
       "      <td>True</td>\n",
       "    </tr>\n",
       "    <tr>\n",
       "      <th>11</th>\n",
       "      <td>AHOC</td>\n",
       "      <td>Live Poultry, Fresh Killed (LPFK)</td>\n",
       "      <td>-99</td>\n",
       "      <td>4/3 Div 1</td>\n",
       "      <td>15</td>\n",
       "      <td>7</td>\n",
       "      <td>True</td>\n",
       "    </tr>\n",
       "    <tr>\n",
       "      <th>12</th>\n",
       "      <td>AHOC</td>\n",
       "      <td>TuneSquad</td>\n",
       "      <td>-99</td>\n",
       "      <td>4/3 Div 1</td>\n",
       "      <td>15</td>\n",
       "      <td>4</td>\n",
       "      <td>True</td>\n",
       "    </tr>\n",
       "    <tr>\n",
       "      <th>13</th>\n",
       "      <td>AHOC</td>\n",
       "      <td>JuJu Hex</td>\n",
       "      <td>-99</td>\n",
       "      <td>4/3 Div 1</td>\n",
       "      <td>15</td>\n",
       "      <td>12</td>\n",
       "      <td>True</td>\n",
       "    </tr>\n",
       "    <tr>\n",
       "      <th>14</th>\n",
       "      <td>Gothrilla</td>\n",
       "      <td>AHOC</td>\n",
       "      <td>-99</td>\n",
       "      <td>4/3 Div 1</td>\n",
       "      <td>12</td>\n",
       "      <td>15</td>\n",
       "      <td>False</td>\n",
       "    </tr>\n",
       "    <tr>\n",
       "      <th>15</th>\n",
       "      <td>Gothrilla</td>\n",
       "      <td>Swingers</td>\n",
       "      <td>-99</td>\n",
       "      <td>4/3 Div 1</td>\n",
       "      <td>9</td>\n",
       "      <td>13</td>\n",
       "      <td>False</td>\n",
       "    </tr>\n",
       "    <tr>\n",
       "      <th>16</th>\n",
       "      <td>Gothrilla</td>\n",
       "      <td>FlowChart</td>\n",
       "      <td>-99</td>\n",
       "      <td>4/3 Div 1</td>\n",
       "      <td>15</td>\n",
       "      <td>7</td>\n",
       "      <td>True</td>\n",
       "    </tr>\n",
       "    <tr>\n",
       "      <th>17</th>\n",
       "      <td>Gothrilla</td>\n",
       "      <td>Hucky McThrowandcatch</td>\n",
       "      <td>-99</td>\n",
       "      <td>4/3 Div 1</td>\n",
       "      <td>14</td>\n",
       "      <td>10</td>\n",
       "      <td>True</td>\n",
       "    </tr>\n",
       "    <tr>\n",
       "      <th>18</th>\n",
       "      <td>Gothrilla</td>\n",
       "      <td>SnakeCountryBromance</td>\n",
       "      <td>-99</td>\n",
       "      <td>4/3 Div 1</td>\n",
       "      <td>10</td>\n",
       "      <td>15</td>\n",
       "      <td>False</td>\n",
       "    </tr>\n",
       "    <tr>\n",
       "      <th>19</th>\n",
       "      <td>Gothrilla</td>\n",
       "      <td>Zerg Rush!</td>\n",
       "      <td>-99</td>\n",
       "      <td>4/3 Div 1</td>\n",
       "      <td>11</td>\n",
       "      <td>15</td>\n",
       "      <td>False</td>\n",
       "    </tr>\n",
       "  </tbody>\n",
       "</table>\n",
       "</div>"
      ],
      "text/plain": [
       "       Team A                             Team B  Tourney Qualifying games*  \\\n",
       "0        AHOC                          Gothrilla                        -99   \n",
       "1        AHOC                                BBN                        -99   \n",
       "2        AHOC                       Stonecutters                        -99   \n",
       "3        AHOC                          FlowChart                        -99   \n",
       "4        AHOC                  Lady and the BAMF                        -99   \n",
       "5        AHOC                           Swingers                        -99   \n",
       "6        AHOC                           Upstream                        -99   \n",
       "7        AHOC                              Tubbs                        -99   \n",
       "8        AHOC                       Stonecutters                        -99   \n",
       "9        AHOC                         Zerg Rush!                        -99   \n",
       "10       AHOC                         Turtle Boy                        -99   \n",
       "11       AHOC  Live Poultry, Fresh Killed (LPFK)                        -99   \n",
       "12       AHOC                          TuneSquad                        -99   \n",
       "13       AHOC                           JuJu Hex                        -99   \n",
       "14  Gothrilla                               AHOC                        -99   \n",
       "15  Gothrilla                           Swingers                        -99   \n",
       "16  Gothrilla                          FlowChart                        -99   \n",
       "17  Gothrilla              Hucky McThrowandcatch                        -99   \n",
       "18  Gothrilla               SnakeCountryBromance                        -99   \n",
       "19  Gothrilla                         Zerg Rush!                        -99   \n",
       "\n",
       "      divname  Score A  Score B  Team A Wins  \n",
       "0   4/3 Div 1       15       12         True  \n",
       "1   4/3 Div 1       15        1         True  \n",
       "2   4/3 Div 1       15        8         True  \n",
       "3   4/3 Div 1       15       10         True  \n",
       "4   4/3 Div 1       15        5         True  \n",
       "5   4/3 Div 1       15       11         True  \n",
       "6   4/3 Div 1       15       10         True  \n",
       "7   4/3 Div 1       15        6         True  \n",
       "8   4/3 Div 1       15       10         True  \n",
       "9   4/3 Div 1       15        8         True  \n",
       "10  4/3 Div 1       15        6         True  \n",
       "11  4/3 Div 1       15        7         True  \n",
       "12  4/3 Div 1       15        4         True  \n",
       "13  4/3 Div 1       15       12         True  \n",
       "14  4/3 Div 1       12       15        False  \n",
       "15  4/3 Div 1        9       13        False  \n",
       "16  4/3 Div 1       15        7         True  \n",
       "17  4/3 Div 1       14       10         True  \n",
       "18  4/3 Div 1       10       15        False  \n",
       "19  4/3 Div 1       11       15        False  "
      ]
     },
     "execution_count": 108,
     "metadata": {},
     "output_type": "execute_result"
    }
   ],
   "source": [
    "winloss.head(20)"
   ]
  },
  {
   "cell_type": "code",
   "execution_count": 109,
   "metadata": {
    "collapsed": true
   },
   "outputs": [],
   "source": [
    "winloss = winloss.drop(['Tourney Qualifying games*', 'Score A', 'Score B'], axis=1)"
   ]
  },
  {
   "cell_type": "code",
   "execution_count": 110,
   "metadata": {},
   "outputs": [
    {
     "data": {
      "text/html": [
       "<div>\n",
       "<style>\n",
       "    .dataframe thead tr:only-child th {\n",
       "        text-align: right;\n",
       "    }\n",
       "\n",
       "    .dataframe thead th {\n",
       "        text-align: left;\n",
       "    }\n",
       "\n",
       "    .dataframe tbody tr th {\n",
       "        vertical-align: top;\n",
       "    }\n",
       "</style>\n",
       "<table border=\"1\" class=\"dataframe\">\n",
       "  <thead>\n",
       "    <tr style=\"text-align: right;\">\n",
       "      <th></th>\n",
       "      <th>Team A</th>\n",
       "      <th>Team B</th>\n",
       "      <th>divname</th>\n",
       "      <th>Team A Wins</th>\n",
       "    </tr>\n",
       "  </thead>\n",
       "  <tbody>\n",
       "    <tr>\n",
       "      <th>0</th>\n",
       "      <td>AHOC</td>\n",
       "      <td>Gothrilla</td>\n",
       "      <td>4/3 Div 1</td>\n",
       "      <td>True</td>\n",
       "    </tr>\n",
       "    <tr>\n",
       "      <th>1</th>\n",
       "      <td>AHOC</td>\n",
       "      <td>BBN</td>\n",
       "      <td>4/3 Div 1</td>\n",
       "      <td>True</td>\n",
       "    </tr>\n",
       "    <tr>\n",
       "      <th>2</th>\n",
       "      <td>AHOC</td>\n",
       "      <td>Stonecutters</td>\n",
       "      <td>4/3 Div 1</td>\n",
       "      <td>True</td>\n",
       "    </tr>\n",
       "    <tr>\n",
       "      <th>3</th>\n",
       "      <td>AHOC</td>\n",
       "      <td>FlowChart</td>\n",
       "      <td>4/3 Div 1</td>\n",
       "      <td>True</td>\n",
       "    </tr>\n",
       "    <tr>\n",
       "      <th>4</th>\n",
       "      <td>AHOC</td>\n",
       "      <td>Lady and the BAMF</td>\n",
       "      <td>4/3 Div 1</td>\n",
       "      <td>True</td>\n",
       "    </tr>\n",
       "    <tr>\n",
       "      <th>5</th>\n",
       "      <td>AHOC</td>\n",
       "      <td>Swingers</td>\n",
       "      <td>4/3 Div 1</td>\n",
       "      <td>True</td>\n",
       "    </tr>\n",
       "    <tr>\n",
       "      <th>6</th>\n",
       "      <td>AHOC</td>\n",
       "      <td>Upstream</td>\n",
       "      <td>4/3 Div 1</td>\n",
       "      <td>True</td>\n",
       "    </tr>\n",
       "    <tr>\n",
       "      <th>7</th>\n",
       "      <td>AHOC</td>\n",
       "      <td>Tubbs</td>\n",
       "      <td>4/3 Div 1</td>\n",
       "      <td>True</td>\n",
       "    </tr>\n",
       "    <tr>\n",
       "      <th>8</th>\n",
       "      <td>AHOC</td>\n",
       "      <td>Stonecutters</td>\n",
       "      <td>4/3 Div 1</td>\n",
       "      <td>True</td>\n",
       "    </tr>\n",
       "    <tr>\n",
       "      <th>9</th>\n",
       "      <td>AHOC</td>\n",
       "      <td>Zerg Rush!</td>\n",
       "      <td>4/3 Div 1</td>\n",
       "      <td>True</td>\n",
       "    </tr>\n",
       "    <tr>\n",
       "      <th>10</th>\n",
       "      <td>AHOC</td>\n",
       "      <td>Turtle Boy</td>\n",
       "      <td>4/3 Div 1</td>\n",
       "      <td>True</td>\n",
       "    </tr>\n",
       "    <tr>\n",
       "      <th>11</th>\n",
       "      <td>AHOC</td>\n",
       "      <td>Live Poultry, Fresh Killed (LPFK)</td>\n",
       "      <td>4/3 Div 1</td>\n",
       "      <td>True</td>\n",
       "    </tr>\n",
       "    <tr>\n",
       "      <th>12</th>\n",
       "      <td>AHOC</td>\n",
       "      <td>TuneSquad</td>\n",
       "      <td>4/3 Div 1</td>\n",
       "      <td>True</td>\n",
       "    </tr>\n",
       "    <tr>\n",
       "      <th>13</th>\n",
       "      <td>AHOC</td>\n",
       "      <td>JuJu Hex</td>\n",
       "      <td>4/3 Div 1</td>\n",
       "      <td>True</td>\n",
       "    </tr>\n",
       "    <tr>\n",
       "      <th>14</th>\n",
       "      <td>Gothrilla</td>\n",
       "      <td>AHOC</td>\n",
       "      <td>4/3 Div 1</td>\n",
       "      <td>False</td>\n",
       "    </tr>\n",
       "    <tr>\n",
       "      <th>15</th>\n",
       "      <td>Gothrilla</td>\n",
       "      <td>Swingers</td>\n",
       "      <td>4/3 Div 1</td>\n",
       "      <td>False</td>\n",
       "    </tr>\n",
       "    <tr>\n",
       "      <th>16</th>\n",
       "      <td>Gothrilla</td>\n",
       "      <td>FlowChart</td>\n",
       "      <td>4/3 Div 1</td>\n",
       "      <td>True</td>\n",
       "    </tr>\n",
       "    <tr>\n",
       "      <th>17</th>\n",
       "      <td>Gothrilla</td>\n",
       "      <td>Hucky McThrowandcatch</td>\n",
       "      <td>4/3 Div 1</td>\n",
       "      <td>True</td>\n",
       "    </tr>\n",
       "    <tr>\n",
       "      <th>18</th>\n",
       "      <td>Gothrilla</td>\n",
       "      <td>SnakeCountryBromance</td>\n",
       "      <td>4/3 Div 1</td>\n",
       "      <td>False</td>\n",
       "    </tr>\n",
       "    <tr>\n",
       "      <th>19</th>\n",
       "      <td>Gothrilla</td>\n",
       "      <td>Zerg Rush!</td>\n",
       "      <td>4/3 Div 1</td>\n",
       "      <td>False</td>\n",
       "    </tr>\n",
       "  </tbody>\n",
       "</table>\n",
       "</div>"
      ],
      "text/plain": [
       "       Team A                             Team B    divname  Team A Wins\n",
       "0        AHOC                          Gothrilla  4/3 Div 1         True\n",
       "1        AHOC                                BBN  4/3 Div 1         True\n",
       "2        AHOC                       Stonecutters  4/3 Div 1         True\n",
       "3        AHOC                          FlowChart  4/3 Div 1         True\n",
       "4        AHOC                  Lady and the BAMF  4/3 Div 1         True\n",
       "5        AHOC                           Swingers  4/3 Div 1         True\n",
       "6        AHOC                           Upstream  4/3 Div 1         True\n",
       "7        AHOC                              Tubbs  4/3 Div 1         True\n",
       "8        AHOC                       Stonecutters  4/3 Div 1         True\n",
       "9        AHOC                         Zerg Rush!  4/3 Div 1         True\n",
       "10       AHOC                         Turtle Boy  4/3 Div 1         True\n",
       "11       AHOC  Live Poultry, Fresh Killed (LPFK)  4/3 Div 1         True\n",
       "12       AHOC                          TuneSquad  4/3 Div 1         True\n",
       "13       AHOC                           JuJu Hex  4/3 Div 1         True\n",
       "14  Gothrilla                               AHOC  4/3 Div 1        False\n",
       "15  Gothrilla                           Swingers  4/3 Div 1        False\n",
       "16  Gothrilla                          FlowChart  4/3 Div 1         True\n",
       "17  Gothrilla              Hucky McThrowandcatch  4/3 Div 1         True\n",
       "18  Gothrilla               SnakeCountryBromance  4/3 Div 1        False\n",
       "19  Gothrilla                         Zerg Rush!  4/3 Div 1        False"
      ]
     },
     "execution_count": 110,
     "metadata": {},
     "output_type": "execute_result"
    }
   ],
   "source": [
    "winloss.head(20)"
   ]
  },
  {
   "cell_type": "code",
   "execution_count": 111,
   "metadata": {
    "collapsed": true
   },
   "outputs": [],
   "source": [
    "teams = winloss['Team A'].unique()"
   ]
  },
  {
   "cell_type": "code",
   "execution_count": 112,
   "metadata": {
    "collapsed": true
   },
   "outputs": [],
   "source": [
    "team2index = {}\n",
    "team2div = {}\n",
    "for i, team in enumerate(teams):\n",
    "    row = winloss['Team A'] == team\n",
    "    div_team = winloss.loc[row, 'divname'].unique()[0]\n",
    "    team2div[team] = div_team\n",
    "    team2index[team] = i"
   ]
  },
  {
   "cell_type": "code",
   "execution_count": 113,
   "metadata": {
    "collapsed": true
   },
   "outputs": [],
   "source": [
    "winloss['Index A'] = winloss['Team A'].apply(lambda x: team2index[x])\n",
    "winloss['Index B'] = winloss['Team B'].apply(lambda x: team2index[x])\n",
    "winloss['Div A'] = winloss['Team A'].apply(lambda x: team2div[x])\n",
    "winloss['Div B'] = winloss['Team B'].apply(lambda x: team2div[x])"
   ]
  },
  {
   "cell_type": "code",
   "execution_count": 114,
   "metadata": {
    "collapsed": true
   },
   "outputs": [],
   "source": [
    "mixed_winloss = winloss.copy()\n",
    "for div in ['Open Div 1', 'Open Div 2']:\n",
    "    sub1 = (mixed_winloss['Div A'] == div) | (mixed_winloss['Div B'] == div)\n",
    "    mixed_winloss = mixed_winloss[~sub1]"
   ]
  },
  {
   "cell_type": "code",
   "execution_count": 115,
   "metadata": {},
   "outputs": [
    {
     "data": {
      "text/plain": [
       "(1044, 8)"
      ]
     },
     "execution_count": 115,
     "metadata": {},
     "output_type": "execute_result"
    }
   ],
   "source": [
    "mixed_winloss.shape"
   ]
  },
  {
   "cell_type": "code",
   "execution_count": 116,
   "metadata": {
    "collapsed": true
   },
   "outputs": [],
   "source": [
    "mixed_winloss.to_csv(os.path.join(interim_dir, 'winloss_with_duplicates.csv'), index=None)"
   ]
  },
  {
   "cell_type": "code",
   "execution_count": 90,
   "metadata": {
    "collapsed": true
   },
   "outputs": [],
   "source": [
    "pair_list = []\n",
    "for row in mixed_winloss.index:\n",
    "    team_A = mixed_winloss.loc[row, 'Index A']\n",
    "    team_B = mixed_winloss.loc[row, 'Index B']\n",
    "    new_pair = (team_A, team_B)\n",
    "    pair_list.append(new_pair)\n",
    "    reverse_pair = (team_B, team_A)\n",
    "    if reverse_pair in pair_list:\n",
    "        mixed_winloss = mixed_winloss.drop(row)\n"
   ]
  },
  {
   "cell_type": "code",
   "execution_count": 91,
   "metadata": {},
   "outputs": [
    {
     "data": {
      "text/plain": [
       "(522, 13)"
      ]
     },
     "execution_count": 91,
     "metadata": {},
     "output_type": "execute_result"
    }
   ],
   "source": [
    "mixed_winloss.shape"
   ]
  },
  {
   "cell_type": "code",
   "execution_count": 92,
   "metadata": {},
   "outputs": [
    {
     "data": {
      "text/html": [
       "<div>\n",
       "<style>\n",
       "    .dataframe thead tr:only-child th {\n",
       "        text-align: right;\n",
       "    }\n",
       "\n",
       "    .dataframe thead th {\n",
       "        text-align: left;\n",
       "    }\n",
       "\n",
       "    .dataframe tbody tr th {\n",
       "        vertical-align: top;\n",
       "    }\n",
       "</style>\n",
       "<table border=\"1\" class=\"dataframe\">\n",
       "  <thead>\n",
       "    <tr style=\"text-align: right;\">\n",
       "      <th></th>\n",
       "      <th>Team A</th>\n",
       "      <th>Team B</th>\n",
       "      <th>Tourney Qualifying games*</th>\n",
       "      <th>divname</th>\n",
       "      <th>Score A</th>\n",
       "      <th>Score B</th>\n",
       "      <th>Team A Wins</th>\n",
       "      <th>Team A Loses</th>\n",
       "      <th>Team A Ties</th>\n",
       "      <th>Index A</th>\n",
       "      <th>Index B</th>\n",
       "      <th>Div A</th>\n",
       "      <th>Div B</th>\n",
       "    </tr>\n",
       "  </thead>\n",
       "  <tbody>\n",
       "    <tr>\n",
       "      <th>0</th>\n",
       "      <td>AHOC</td>\n",
       "      <td>Gothrilla</td>\n",
       "      <td>-99</td>\n",
       "      <td>4/3 Div 1</td>\n",
       "      <td>15</td>\n",
       "      <td>12</td>\n",
       "      <td>True</td>\n",
       "      <td>False</td>\n",
       "      <td>False</td>\n",
       "      <td>0</td>\n",
       "      <td>1</td>\n",
       "      <td>4/3 Div 1</td>\n",
       "      <td>4/3 Div 1</td>\n",
       "    </tr>\n",
       "    <tr>\n",
       "      <th>1</th>\n",
       "      <td>AHOC</td>\n",
       "      <td>BBN</td>\n",
       "      <td>-99</td>\n",
       "      <td>4/3 Div 1</td>\n",
       "      <td>15</td>\n",
       "      <td>1</td>\n",
       "      <td>True</td>\n",
       "      <td>False</td>\n",
       "      <td>False</td>\n",
       "      <td>0</td>\n",
       "      <td>9</td>\n",
       "      <td>4/3 Div 1</td>\n",
       "      <td>4/3 Div 1</td>\n",
       "    </tr>\n",
       "    <tr>\n",
       "      <th>2</th>\n",
       "      <td>AHOC</td>\n",
       "      <td>Stonecutters</td>\n",
       "      <td>-99</td>\n",
       "      <td>4/3 Div 1</td>\n",
       "      <td>15</td>\n",
       "      <td>8</td>\n",
       "      <td>True</td>\n",
       "      <td>False</td>\n",
       "      <td>False</td>\n",
       "      <td>0</td>\n",
       "      <td>41</td>\n",
       "      <td>4/3 Div 1</td>\n",
       "      <td>5/2 Div 1</td>\n",
       "    </tr>\n",
       "    <tr>\n",
       "      <th>3</th>\n",
       "      <td>AHOC</td>\n",
       "      <td>FlowChart</td>\n",
       "      <td>-99</td>\n",
       "      <td>4/3 Div 1</td>\n",
       "      <td>15</td>\n",
       "      <td>10</td>\n",
       "      <td>True</td>\n",
       "      <td>False</td>\n",
       "      <td>False</td>\n",
       "      <td>0</td>\n",
       "      <td>2</td>\n",
       "      <td>4/3 Div 1</td>\n",
       "      <td>4/3 Div 1</td>\n",
       "    </tr>\n",
       "    <tr>\n",
       "      <th>4</th>\n",
       "      <td>AHOC</td>\n",
       "      <td>Lady and the BAMF</td>\n",
       "      <td>-99</td>\n",
       "      <td>4/3 Div 1</td>\n",
       "      <td>15</td>\n",
       "      <td>5</td>\n",
       "      <td>True</td>\n",
       "      <td>False</td>\n",
       "      <td>False</td>\n",
       "      <td>0</td>\n",
       "      <td>28</td>\n",
       "      <td>4/3 Div 1</td>\n",
       "      <td>4/3 Div 2</td>\n",
       "    </tr>\n",
       "  </tbody>\n",
       "</table>\n",
       "</div>"
      ],
      "text/plain": [
       "  Team A             Team B  Tourney Qualifying games*    divname  Score A  \\\n",
       "0   AHOC          Gothrilla                        -99  4/3 Div 1       15   \n",
       "1   AHOC                BBN                        -99  4/3 Div 1       15   \n",
       "2   AHOC       Stonecutters                        -99  4/3 Div 1       15   \n",
       "3   AHOC          FlowChart                        -99  4/3 Div 1       15   \n",
       "4   AHOC  Lady and the BAMF                        -99  4/3 Div 1       15   \n",
       "\n",
       "   Score B  Team A Wins  Team A Loses  Team A Ties  Index A  Index B  \\\n",
       "0       12         True         False        False        0        1   \n",
       "1        1         True         False        False        0        9   \n",
       "2        8         True         False        False        0       41   \n",
       "3       10         True         False        False        0        2   \n",
       "4        5         True         False        False        0       28   \n",
       "\n",
       "       Div A      Div B  \n",
       "0  4/3 Div 1  4/3 Div 1  \n",
       "1  4/3 Div 1  4/3 Div 1  \n",
       "2  4/3 Div 1  5/2 Div 1  \n",
       "3  4/3 Div 1  4/3 Div 1  \n",
       "4  4/3 Div 1  4/3 Div 2  "
      ]
     },
     "execution_count": 92,
     "metadata": {},
     "output_type": "execute_result"
    }
   ],
   "source": [
    "mixed_winloss.head()"
   ]
  },
  {
   "cell_type": "code",
   "execution_count": 93,
   "metadata": {
    "collapsed": true
   },
   "outputs": [],
   "source": [
    "mixed_winloss_flatprior = mixed_winloss[['Team A', 'Team B', 'Team A Wins', 'Index A', 'Index B']]"
   ]
  },
  {
   "cell_type": "code",
   "execution_count": 97,
   "metadata": {
    "collapsed": true
   },
   "outputs": [],
   "source": [
    "outmwlfppath = os.path.join(interim_dir, 'winloss_simpleprior_{}.csv'.format(league_id))\n",
    "mixed_winloss_flatprior.to_csv(outmwlfppath, index=None)"
   ]
  },
  {
   "cell_type": "code",
   "execution_count": 95,
   "metadata": {
    "collapsed": true
   },
   "outputs": [],
   "source": [
    "mixed_winloss_divprior = mixed_winloss[['Team A', 'Team B', 'Team A Wins', 'Index A', 'Index B', 'Div A', 'Div B']]"
   ]
  },
  {
   "cell_type": "code",
   "execution_count": 98,
   "metadata": {
    "collapsed": true
   },
   "outputs": [],
   "source": [
    "outmwldppath = os.path.join(interim_dir, 'winloss_divprior_{}.csv'.format(league_id))\n",
    "mixed_winloss_divprior.to_csv(outmwldppath, index=None)"
   ]
  },
  {
   "cell_type": "code",
   "execution_count": 60,
   "metadata": {
    "collapsed": true
   },
   "outputs": [],
   "source": [
    "outwlpath = os.path.join(interim_dir, 'winloss_{}.csv'.format(league_id))\n",
    "winloss.to_csv(outwlpath, index=None)"
   ]
  },
  {
   "cell_type": "code",
   "execution_count": 15,
   "metadata": {
    "collapsed": true
   },
   "outputs": [],
   "source": [
    "scorediv = scores[['Team A', 'divname']].drop_duplicates()"
   ]
  },
  {
   "cell_type": "code",
   "execution_count": 17,
   "metadata": {
    "collapsed": true
   },
   "outputs": [],
   "source": [
    "scorediv = scorediv.set_index('Team A')"
   ]
  },
  {
   "cell_type": "code",
   "execution_count": 21,
   "metadata": {},
   "outputs": [
    {
     "data": {
      "text/plain": [
       "'4/3 Div 1'"
      ]
     },
     "execution_count": 21,
     "metadata": {},
     "output_type": "execute_result"
    }
   ],
   "source": [
    "scorediv.loc['AHOC', 'divname']"
   ]
  },
  {
   "cell_type": "code",
   "execution_count": null,
   "metadata": {
    "collapsed": true
   },
   "outputs": [],
   "source": [
    "map2div = {}\n",
    "teams = scores['Team A'].unique()\n",
    "for team in teams:\n",
    "    index = "
   ]
  },
  {
   "cell_type": "code",
   "execution_count": 38,
   "metadata": {
    "collapsed": true
   },
   "outputs": [],
   "source": [
    "heuristicdf = scores.groupby('Team A').sum().sort_index().reset_index()"
   ]
  },
  {
   "cell_type": "code",
   "execution_count": 39,
   "metadata": {},
   "outputs": [
    {
     "data": {
      "text/html": [
       "<div>\n",
       "<style>\n",
       "    .dataframe thead tr:only-child th {\n",
       "        text-align: right;\n",
       "    }\n",
       "\n",
       "    .dataframe thead th {\n",
       "        text-align: left;\n",
       "    }\n",
       "\n",
       "    .dataframe tbody tr th {\n",
       "        vertical-align: top;\n",
       "    }\n",
       "</style>\n",
       "<table border=\"1\" class=\"dataframe\">\n",
       "  <thead>\n",
       "    <tr style=\"text-align: right;\">\n",
       "      <th></th>\n",
       "      <th>Team A</th>\n",
       "      <th>Tourney Qualifying games*</th>\n",
       "      <th>Score A</th>\n",
       "      <th>Score B</th>\n",
       "    </tr>\n",
       "  </thead>\n",
       "  <tbody>\n",
       "    <tr>\n",
       "      <th>0</th>\n",
       "      <td>123 Trap!</td>\n",
       "      <td>-990</td>\n",
       "      <td>61</td>\n",
       "      <td>142</td>\n",
       "    </tr>\n",
       "    <tr>\n",
       "      <th>1</th>\n",
       "      <td>215 Needham Street</td>\n",
       "      <td>-693</td>\n",
       "      <td>98</td>\n",
       "      <td>62</td>\n",
       "    </tr>\n",
       "    <tr>\n",
       "      <th>2</th>\n",
       "      <td>A Lil Bit Sticky</td>\n",
       "      <td>-1485</td>\n",
       "      <td>151</td>\n",
       "      <td>194</td>\n",
       "    </tr>\n",
       "    <tr>\n",
       "      <th>3</th>\n",
       "      <td>AHOC</td>\n",
       "      <td>-1386</td>\n",
       "      <td>210</td>\n",
       "      <td>110</td>\n",
       "    </tr>\n",
       "    <tr>\n",
       "      <th>4</th>\n",
       "      <td>Alpha No Beta</td>\n",
       "      <td>-1881</td>\n",
       "      <td>216</td>\n",
       "      <td>223</td>\n",
       "    </tr>\n",
       "  </tbody>\n",
       "</table>\n",
       "</div>"
      ],
      "text/plain": [
       "               Team A  Tourney Qualifying games*  Score A  Score B\n",
       "0           123 Trap!                       -990       61      142\n",
       "1  215 Needham Street                       -693       98       62\n",
       "2    A Lil Bit Sticky                      -1485      151      194\n",
       "3                AHOC                      -1386      210      110\n",
       "4       Alpha No Beta                      -1881      216      223"
      ]
     },
     "execution_count": 39,
     "metadata": {},
     "output_type": "execute_result"
    }
   ],
   "source": [
    "heuristicdf.head()"
   ]
  },
  {
   "cell_type": "code",
   "execution_count": 40,
   "metadata": {
    "collapsed": true
   },
   "outputs": [],
   "source": [
    "heuristicdf = heuristicdf.assign(PlusMinus = heuristicdf['Score A'] - heuristicdf['Score B'])"
   ]
  },
  {
   "cell_type": "code",
   "execution_count": 41,
   "metadata": {},
   "outputs": [
    {
     "data": {
      "text/html": [
       "<div>\n",
       "<style>\n",
       "    .dataframe thead tr:only-child th {\n",
       "        text-align: right;\n",
       "    }\n",
       "\n",
       "    .dataframe thead th {\n",
       "        text-align: left;\n",
       "    }\n",
       "\n",
       "    .dataframe tbody tr th {\n",
       "        vertical-align: top;\n",
       "    }\n",
       "</style>\n",
       "<table border=\"1\" class=\"dataframe\">\n",
       "  <thead>\n",
       "    <tr style=\"text-align: right;\">\n",
       "      <th></th>\n",
       "      <th>Team A</th>\n",
       "      <th>Tourney Qualifying games*</th>\n",
       "      <th>Score A</th>\n",
       "      <th>Score B</th>\n",
       "      <th>PlusMinus</th>\n",
       "    </tr>\n",
       "  </thead>\n",
       "  <tbody>\n",
       "    <tr>\n",
       "      <th>0</th>\n",
       "      <td>123 Trap!</td>\n",
       "      <td>-990</td>\n",
       "      <td>61</td>\n",
       "      <td>142</td>\n",
       "      <td>-81</td>\n",
       "    </tr>\n",
       "    <tr>\n",
       "      <th>1</th>\n",
       "      <td>215 Needham Street</td>\n",
       "      <td>-693</td>\n",
       "      <td>98</td>\n",
       "      <td>62</td>\n",
       "      <td>36</td>\n",
       "    </tr>\n",
       "    <tr>\n",
       "      <th>2</th>\n",
       "      <td>A Lil Bit Sticky</td>\n",
       "      <td>-1485</td>\n",
       "      <td>151</td>\n",
       "      <td>194</td>\n",
       "      <td>-43</td>\n",
       "    </tr>\n",
       "    <tr>\n",
       "      <th>3</th>\n",
       "      <td>AHOC</td>\n",
       "      <td>-1386</td>\n",
       "      <td>210</td>\n",
       "      <td>110</td>\n",
       "      <td>100</td>\n",
       "    </tr>\n",
       "    <tr>\n",
       "      <th>4</th>\n",
       "      <td>Alpha No Beta</td>\n",
       "      <td>-1881</td>\n",
       "      <td>216</td>\n",
       "      <td>223</td>\n",
       "      <td>-7</td>\n",
       "    </tr>\n",
       "  </tbody>\n",
       "</table>\n",
       "</div>"
      ],
      "text/plain": [
       "               Team A  Tourney Qualifying games*  Score A  Score B  PlusMinus\n",
       "0           123 Trap!                       -990       61      142        -81\n",
       "1  215 Needham Street                       -693       98       62         36\n",
       "2    A Lil Bit Sticky                      -1485      151      194        -43\n",
       "3                AHOC                      -1386      210      110        100\n",
       "4       Alpha No Beta                      -1881      216      223         -7"
      ]
     },
     "execution_count": 41,
     "metadata": {},
     "output_type": "execute_result"
    }
   ],
   "source": [
    "heuristicdf.head()"
   ]
  },
  {
   "cell_type": "code",
   "execution_count": 42,
   "metadata": {},
   "outputs": [
    {
     "data": {
      "text/plain": [
       "array(['4/3 Div 3', 'Open Div 1', '4/3 Div 2', '4/3 Div 1', '5/2 Div 3',\n",
       "       '4/3 Div 1', '5/2 Div 2', '4/3 Div 3', '5/2 Div 2', '4/3 Div 3',\n",
       "       '4/3 Div 2', 'Open Div 1', 'Open Div 1', '5/2 Div 3', 'Open Div 1',\n",
       "       '4/3 Div 2', '4/3 Div 2', 'Open Div 1', '4/3 Div 2', '4/3 Div 2',\n",
       "       '4/3 Div 1', '5/2 Div 3', '5/2 Div 2', '4/3 Div 1', '5/2 Div 3',\n",
       "       '4/3 Div 1', 'Open Div 1', '5/2 Div 2', '4/3 Div 2', '5/2 Div 2',\n",
       "       'Open Div 2', '4/3 Div 2', '5/2 Div 2', '4/3 Div 2', '4/3 Div 2',\n",
       "       '5/2 Div 3', '5/2 Div 2', '5/2 Div 3', '4/3 Div 2', '4/3 Div 2',\n",
       "       '4/3 Div 1', '5/2 Div 3', '5/2 Div 2', '4/3 Div 2', '4/3 Div 2',\n",
       "       '4/3 Div 3', '5/2 Div 2', '4/3 Div 2', '5/2 Div 3', '4/3 Div 2',\n",
       "       '4/3 Div 2', '5/2 Div 2', '5/2 Div 3', 'Open Div 1', '5/2 Div 1',\n",
       "       'Open Div 2', '5/2 Div 1', '5/2 Div 3', '5/2 Div 3', 'Open Div 1',\n",
       "       '4/3 Div 3', 'Open Div 1', '5/2 Div 1', '4/3 Div 2', '4/3 Div 1',\n",
       "       '5/2 Div 3', '5/2 Div 2', '4/3 Div 2', '5/2 Div 3', '4/3 Div 3',\n",
       "       '4/3 Div 3', '4/3 Div 2', '4/3 Div 1', '4/3 Div 2', '4/3 Div 1',\n",
       "       '4/3 Div 3', '4/3 Div 2', '4/3 Div 1'], dtype=object)"
      ]
     },
     "execution_count": 42,
     "metadata": {},
     "output_type": "execute_result"
    }
   ],
   "source": [
    "scorediv.loc[heuristicdf['Team A'].values, 'divname'].values"
   ]
  },
  {
   "cell_type": "code",
   "execution_count": 43,
   "metadata": {
    "collapsed": true
   },
   "outputs": [],
   "source": [
    "heuristicdf = heuristicdf.assign(divname = scorediv.loc[heuristicdf['Team A'].values, 'divname'].values)"
   ]
  },
  {
   "cell_type": "code",
   "execution_count": 67,
   "metadata": {
    "collapsed": true
   },
   "outputs": [],
   "source": [
    "tmpwl = scores.copy()"
   ]
  },
  {
   "cell_type": "code",
   "execution_count": 68,
   "metadata": {
    "collapsed": true
   },
   "outputs": [],
   "source": [
    "tmpwl['Team A Wins'] = (tmpwl['Score A'] > tmpwl['Score B']).astype('int')\n",
    "tmpwl['Team A Loses'] = (tmpwl['Score A'] < tmpwl['Score B']).astype('int')\n",
    "tmpwl['Team A Ties'] = (tmpwl['Score A'] == tmpwl['Score B']).astype('int')"
   ]
  },
  {
   "cell_type": "code",
   "execution_count": 73,
   "metadata": {
    "collapsed": true
   },
   "outputs": [],
   "source": [
    "wlrecord = tmpwl.groupby('Team A').sum()"
   ]
  },
  {
   "cell_type": "code",
   "execution_count": 74,
   "metadata": {},
   "outputs": [
    {
     "data": {
      "text/html": [
       "<div>\n",
       "<style>\n",
       "    .dataframe thead tr:only-child th {\n",
       "        text-align: right;\n",
       "    }\n",
       "\n",
       "    .dataframe thead th {\n",
       "        text-align: left;\n",
       "    }\n",
       "\n",
       "    .dataframe tbody tr th {\n",
       "        vertical-align: top;\n",
       "    }\n",
       "</style>\n",
       "<table border=\"1\" class=\"dataframe\">\n",
       "  <thead>\n",
       "    <tr style=\"text-align: right;\">\n",
       "      <th></th>\n",
       "      <th>Tourney Qualifying games*</th>\n",
       "      <th>Score A</th>\n",
       "      <th>Score B</th>\n",
       "      <th>Team A Wins</th>\n",
       "      <th>Team A Loses</th>\n",
       "      <th>Team A Ties</th>\n",
       "    </tr>\n",
       "    <tr>\n",
       "      <th>Team A</th>\n",
       "      <th></th>\n",
       "      <th></th>\n",
       "      <th></th>\n",
       "      <th></th>\n",
       "      <th></th>\n",
       "      <th></th>\n",
       "    </tr>\n",
       "  </thead>\n",
       "  <tbody>\n",
       "    <tr>\n",
       "      <th>123 Trap!</th>\n",
       "      <td>-990</td>\n",
       "      <td>61</td>\n",
       "      <td>142</td>\n",
       "      <td>1</td>\n",
       "      <td>9</td>\n",
       "      <td>0</td>\n",
       "    </tr>\n",
       "    <tr>\n",
       "      <th>215 Needham Street</th>\n",
       "      <td>-693</td>\n",
       "      <td>98</td>\n",
       "      <td>62</td>\n",
       "      <td>5</td>\n",
       "      <td>1</td>\n",
       "      <td>1</td>\n",
       "    </tr>\n",
       "    <tr>\n",
       "      <th>A Lil Bit Sticky</th>\n",
       "      <td>-1485</td>\n",
       "      <td>151</td>\n",
       "      <td>194</td>\n",
       "      <td>5</td>\n",
       "      <td>10</td>\n",
       "      <td>0</td>\n",
       "    </tr>\n",
       "    <tr>\n",
       "      <th>AHOC</th>\n",
       "      <td>-1386</td>\n",
       "      <td>210</td>\n",
       "      <td>110</td>\n",
       "      <td>14</td>\n",
       "      <td>0</td>\n",
       "      <td>0</td>\n",
       "    </tr>\n",
       "    <tr>\n",
       "      <th>Alpha No Beta</th>\n",
       "      <td>-1881</td>\n",
       "      <td>216</td>\n",
       "      <td>223</td>\n",
       "      <td>10</td>\n",
       "      <td>9</td>\n",
       "      <td>0</td>\n",
       "    </tr>\n",
       "    <tr>\n",
       "      <th>BBN</th>\n",
       "      <td>-1089</td>\n",
       "      <td>111</td>\n",
       "      <td>158</td>\n",
       "      <td>2</td>\n",
       "      <td>8</td>\n",
       "      <td>1</td>\n",
       "    </tr>\n",
       "    <tr>\n",
       "      <th>Baba Yaga</th>\n",
       "      <td>-1188</td>\n",
       "      <td>170</td>\n",
       "      <td>123</td>\n",
       "      <td>9</td>\n",
       "      <td>3</td>\n",
       "      <td>0</td>\n",
       "    </tr>\n",
       "    <tr>\n",
       "      <th>Baboon Heart</th>\n",
       "      <td>-1188</td>\n",
       "      <td>108</td>\n",
       "      <td>143</td>\n",
       "      <td>5</td>\n",
       "      <td>7</td>\n",
       "      <td>0</td>\n",
       "    </tr>\n",
       "    <tr>\n",
       "      <th>Bacon</th>\n",
       "      <td>-1089</td>\n",
       "      <td>143</td>\n",
       "      <td>125</td>\n",
       "      <td>7</td>\n",
       "      <td>4</td>\n",
       "      <td>0</td>\n",
       "    </tr>\n",
       "    <tr>\n",
       "      <th>Batman and the Robins</th>\n",
       "      <td>-1188</td>\n",
       "      <td>140</td>\n",
       "      <td>143</td>\n",
       "      <td>6</td>\n",
       "      <td>6</td>\n",
       "      <td>0</td>\n",
       "    </tr>\n",
       "    <tr>\n",
       "      <th>Booooooosh!</th>\n",
       "      <td>-891</td>\n",
       "      <td>116</td>\n",
       "      <td>116</td>\n",
       "      <td>4</td>\n",
       "      <td>5</td>\n",
       "      <td>0</td>\n",
       "    </tr>\n",
       "    <tr>\n",
       "      <th>Crossroads</th>\n",
       "      <td>-2079</td>\n",
       "      <td>299</td>\n",
       "      <td>226</td>\n",
       "      <td>17</td>\n",
       "      <td>3</td>\n",
       "      <td>1</td>\n",
       "    </tr>\n",
       "    <tr>\n",
       "      <th>DISCtinguished Gentlemen</th>\n",
       "      <td>-693</td>\n",
       "      <td>75</td>\n",
       "      <td>101</td>\n",
       "      <td>1</td>\n",
       "      <td>6</td>\n",
       "      <td>0</td>\n",
       "    </tr>\n",
       "    <tr>\n",
       "      <th>Demons</th>\n",
       "      <td>-1089</td>\n",
       "      <td>140</td>\n",
       "      <td>128</td>\n",
       "      <td>5</td>\n",
       "      <td>6</td>\n",
       "      <td>0</td>\n",
       "    </tr>\n",
       "    <tr>\n",
       "      <th>Desert Horizon</th>\n",
       "      <td>-297</td>\n",
       "      <td>28</td>\n",
       "      <td>46</td>\n",
       "      <td>0</td>\n",
       "      <td>3</td>\n",
       "      <td>0</td>\n",
       "    </tr>\n",
       "    <tr>\n",
       "      <th>Disc Envy</th>\n",
       "      <td>-1683</td>\n",
       "      <td>218</td>\n",
       "      <td>187</td>\n",
       "      <td>9</td>\n",
       "      <td>8</td>\n",
       "      <td>0</td>\n",
       "    </tr>\n",
       "    <tr>\n",
       "      <th>Dominion</th>\n",
       "      <td>-1287</td>\n",
       "      <td>147</td>\n",
       "      <td>153</td>\n",
       "      <td>6</td>\n",
       "      <td>7</td>\n",
       "      <td>0</td>\n",
       "    </tr>\n",
       "    <tr>\n",
       "      <th>Fat Bass Ultimate</th>\n",
       "      <td>-990</td>\n",
       "      <td>138</td>\n",
       "      <td>127</td>\n",
       "      <td>6</td>\n",
       "      <td>4</td>\n",
       "      <td>0</td>\n",
       "    </tr>\n",
       "    <tr>\n",
       "      <th>Fetch</th>\n",
       "      <td>-1881</td>\n",
       "      <td>225</td>\n",
       "      <td>216</td>\n",
       "      <td>8</td>\n",
       "      <td>11</td>\n",
       "      <td>0</td>\n",
       "    </tr>\n",
       "    <tr>\n",
       "      <th>Flaming Croissants</th>\n",
       "      <td>-1980</td>\n",
       "      <td>271</td>\n",
       "      <td>205</td>\n",
       "      <td>15</td>\n",
       "      <td>5</td>\n",
       "      <td>0</td>\n",
       "    </tr>\n",
       "  </tbody>\n",
       "</table>\n",
       "</div>"
      ],
      "text/plain": [
       "                          Tourney Qualifying games*  Score A  Score B  \\\n",
       "Team A                                                                  \n",
       "123 Trap!                                      -990       61      142   \n",
       "215 Needham Street                             -693       98       62   \n",
       "A Lil Bit Sticky                              -1485      151      194   \n",
       "AHOC                                          -1386      210      110   \n",
       "Alpha No Beta                                 -1881      216      223   \n",
       "BBN                                           -1089      111      158   \n",
       "Baba Yaga                                     -1188      170      123   \n",
       "Baboon Heart                                  -1188      108      143   \n",
       "Bacon                                         -1089      143      125   \n",
       "Batman and the Robins                         -1188      140      143   \n",
       "Booooooosh!                                    -891      116      116   \n",
       "Crossroads                                    -2079      299      226   \n",
       "DISCtinguished Gentlemen                       -693       75      101   \n",
       "Demons                                        -1089      140      128   \n",
       "Desert Horizon                                 -297       28       46   \n",
       "Disc Envy                                     -1683      218      187   \n",
       "Dominion                                      -1287      147      153   \n",
       "Fat Bass Ultimate                              -990      138      127   \n",
       "Fetch                                         -1881      225      216   \n",
       "Flaming Croissants                            -1980      271      205   \n",
       "\n",
       "                          Team A Wins  Team A Loses  Team A Ties  \n",
       "Team A                                                            \n",
       "123 Trap!                           1             9            0  \n",
       "215 Needham Street                  5             1            1  \n",
       "A Lil Bit Sticky                    5            10            0  \n",
       "AHOC                               14             0            0  \n",
       "Alpha No Beta                      10             9            0  \n",
       "BBN                                 2             8            1  \n",
       "Baba Yaga                           9             3            0  \n",
       "Baboon Heart                        5             7            0  \n",
       "Bacon                               7             4            0  \n",
       "Batman and the Robins               6             6            0  \n",
       "Booooooosh!                         4             5            0  \n",
       "Crossroads                         17             3            1  \n",
       "DISCtinguished Gentlemen            1             6            0  \n",
       "Demons                              5             6            0  \n",
       "Desert Horizon                      0             3            0  \n",
       "Disc Envy                           9             8            0  \n",
       "Dominion                            6             7            0  \n",
       "Fat Bass Ultimate                   6             4            0  \n",
       "Fetch                               8            11            0  \n",
       "Flaming Croissants                 15             5            0  "
      ]
     },
     "execution_count": 74,
     "metadata": {},
     "output_type": "execute_result"
    }
   ],
   "source": [
    "wlrecord.head(20)"
   ]
  },
  {
   "cell_type": "code",
   "execution_count": 77,
   "metadata": {
    "collapsed": true
   },
   "outputs": [],
   "source": [
    "heuristicdf = heuristicdf.set_index('Team Name').join(wlrecord)"
   ]
  },
  {
   "cell_type": "code",
   "execution_count": 79,
   "metadata": {
    "collapsed": true
   },
   "outputs": [],
   "source": [
    "heuristicdf = heuristicdf.drop(['Tourney Qualifying games*', 'Score A', 'Score B'], axis=1)"
   ]
  },
  {
   "cell_type": "code",
   "execution_count": 82,
   "metadata": {
    "collapsed": true
   },
   "outputs": [],
   "source": [
    "heuristicdf = heuristicdf.rename(columns={'Team A': 'Team Name', \n",
    "                                          'Team A Wins': 'Wins', \n",
    "                                          'Team A Loses': 'Losses', \n",
    "                                          'Team A Ties': 'Ties'})"
   ]
  },
  {
   "cell_type": "code",
   "execution_count": 83,
   "metadata": {},
   "outputs": [
    {
     "data": {
      "text/html": [
       "<div>\n",
       "<style>\n",
       "    .dataframe thead tr:only-child th {\n",
       "        text-align: right;\n",
       "    }\n",
       "\n",
       "    .dataframe thead th {\n",
       "        text-align: left;\n",
       "    }\n",
       "\n",
       "    .dataframe tbody tr th {\n",
       "        vertical-align: top;\n",
       "    }\n",
       "</style>\n",
       "<table border=\"1\" class=\"dataframe\">\n",
       "  <thead>\n",
       "    <tr style=\"text-align: right;\">\n",
       "      <th></th>\n",
       "      <th>PlusMinus</th>\n",
       "      <th>divname</th>\n",
       "      <th>Wins</th>\n",
       "      <th>Losses</th>\n",
       "      <th>Ties</th>\n",
       "    </tr>\n",
       "    <tr>\n",
       "      <th>Team Name</th>\n",
       "      <th></th>\n",
       "      <th></th>\n",
       "      <th></th>\n",
       "      <th></th>\n",
       "      <th></th>\n",
       "    </tr>\n",
       "  </thead>\n",
       "  <tbody>\n",
       "    <tr>\n",
       "      <th>123 Trap!</th>\n",
       "      <td>-81</td>\n",
       "      <td>4/3 Div 3</td>\n",
       "      <td>1</td>\n",
       "      <td>9</td>\n",
       "      <td>0</td>\n",
       "    </tr>\n",
       "    <tr>\n",
       "      <th>215 Needham Street</th>\n",
       "      <td>36</td>\n",
       "      <td>Open Div 1</td>\n",
       "      <td>5</td>\n",
       "      <td>1</td>\n",
       "      <td>1</td>\n",
       "    </tr>\n",
       "    <tr>\n",
       "      <th>A Lil Bit Sticky</th>\n",
       "      <td>-43</td>\n",
       "      <td>4/3 Div 2</td>\n",
       "      <td>5</td>\n",
       "      <td>10</td>\n",
       "      <td>0</td>\n",
       "    </tr>\n",
       "    <tr>\n",
       "      <th>AHOC</th>\n",
       "      <td>100</td>\n",
       "      <td>4/3 Div 1</td>\n",
       "      <td>14</td>\n",
       "      <td>0</td>\n",
       "      <td>0</td>\n",
       "    </tr>\n",
       "    <tr>\n",
       "      <th>Alpha No Beta</th>\n",
       "      <td>-7</td>\n",
       "      <td>5/2 Div 3</td>\n",
       "      <td>10</td>\n",
       "      <td>9</td>\n",
       "      <td>0</td>\n",
       "    </tr>\n",
       "  </tbody>\n",
       "</table>\n",
       "</div>"
      ],
      "text/plain": [
       "                    PlusMinus     divname  Wins  Losses  Ties\n",
       "Team Name                                                    \n",
       "123 Trap!                 -81   4/3 Div 3     1       9     0\n",
       "215 Needham Street         36  Open Div 1     5       1     1\n",
       "A Lil Bit Sticky          -43   4/3 Div 2     5      10     0\n",
       "AHOC                      100   4/3 Div 1    14       0     0\n",
       "Alpha No Beta              -7   5/2 Div 3    10       9     0"
      ]
     },
     "execution_count": 83,
     "metadata": {},
     "output_type": "execute_result"
    }
   ],
   "source": [
    "heuristicdf.head()"
   ]
  },
  {
   "cell_type": "code",
   "execution_count": 84,
   "metadata": {
    "collapsed": true
   },
   "outputs": [],
   "source": [
    "outhuepath = os.path.join(interim_dir, 'plusminus_{}.csv'.format(league_id))\n",
    "heuristicdf.to_csv(outhuepath)"
   ]
  },
  {
   "cell_type": "code",
   "execution_count": null,
   "metadata": {
    "collapsed": true
   },
   "outputs": [],
   "source": []
  }
 ],
 "metadata": {
  "kernelspec": {
   "display_name": "Python [conda env:buda-ratings]",
   "language": "python",
   "name": "conda-env-buda-ratings-py"
  },
  "language_info": {
   "codemirror_mode": {
    "name": "ipython",
    "version": 2
   },
   "file_extension": ".py",
   "mimetype": "text/x-python",
   "name": "python",
   "nbconvert_exporter": "python",
   "pygments_lexer": "ipython2",
   "version": "2.7.13"
  }
 },
 "nbformat": 4,
 "nbformat_minor": 2
}
