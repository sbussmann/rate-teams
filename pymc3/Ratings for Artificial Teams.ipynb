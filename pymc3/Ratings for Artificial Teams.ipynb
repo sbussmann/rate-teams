{
 "cells": [
  {
   "cell_type": "code",
   "execution_count": 2,
   "metadata": {
    "collapsed": true
   },
   "outputs": [],
   "source": [
    "import numpy as np\n",
    "import pandas as pd\n",
    "import pystan\n",
    "import matplotlib.pyplot as plt\n",
    "\n",
    "%matplotlib inline"
   ]
  },
  {
   "cell_type": "code",
   "execution_count": 114,
   "metadata": {
    "collapsed": true
   },
   "outputs": [],
   "source": [
    "teams = [0, 1, 2, 3, 4]\n",
    "n_teams = len(teams)"
   ]
  },
  {
   "cell_type": "code",
   "execution_count": 115,
   "metadata": {
    "collapsed": true
   },
   "outputs": [],
   "source": [
    "true_skill = {\n",
    "    0: 0.0,\n",
    "    1: 3.0,\n",
    "    2: -3.0,\n",
    "    3: 3.0,\n",
    "    4: -1.0,\n",
    "}"
   ]
  },
  {
   "cell_type": "code",
   "execution_count": 116,
   "metadata": {
    "collapsed": true
   },
   "outputs": [],
   "source": [
    "n_games = 400\n",
    "games = range(n_games)\n",
    "teamAWon = []\n",
    "teamA = []\n",
    "teamB = []\n",
    "for game in games:\n",
    "    game_database = {}\n",
    "    matchup = np.random.choice(teams, size=2, replace=False)\n",
    "    teamA.append(matchup[0])\n",
    "    teamB.append(matchup[1])\n",
    "    \n",
    "#     true_skills = [true_skill[matchup[0]], true_skill[matchup[1]]]\n",
    "    \n",
    "    deltaRating = true_skill[matchup[0]] - true_skill[matchup[1]]\n",
    "\n",
    "    p = 1 / (1 + np.exp(-deltaRating))\n",
    "\n",
    "    randomNumber = np.random.random()\n",
    "\n",
    "    outcome_A = p > randomNumber\n",
    "#     game_skills = np.random.normal(loc=true_skills, scale=100)\n",
    "    \n",
    "#     outcome_A = game_skills[0] > game_skills[1]\n",
    "    teamAWon.append(int(outcome_A))\n",
    "    \n",
    "simulated_data = {\n",
    "    \"teamsA\": teamA,\n",
    "    \"teamsB\": teamB,\n",
    "    \"teamAWon\": teamAWon,\n",
    "    \"nTeams\": n_teams,\n",
    "    \"nGames\": n_games\n",
    "}"
   ]
  },
  {
   "cell_type": "code",
   "execution_count": 117,
   "metadata": {
    "collapsed": true
   },
   "outputs": [],
   "source": [
    "results = pd.DataFrame(simulated_data)"
   ]
  },
  {
   "cell_type": "code",
   "execution_count": 118,
   "metadata": {},
   "outputs": [
    {
     "data": {
      "text/html": [
       "<div>\n",
       "<style scoped>\n",
       "    .dataframe tbody tr th:only-of-type {\n",
       "        vertical-align: middle;\n",
       "    }\n",
       "\n",
       "    .dataframe tbody tr th {\n",
       "        vertical-align: top;\n",
       "    }\n",
       "\n",
       "    .dataframe thead th {\n",
       "        text-align: right;\n",
       "    }\n",
       "</style>\n",
       "<table border=\"1\" class=\"dataframe\">\n",
       "  <thead>\n",
       "    <tr style=\"text-align: right;\">\n",
       "      <th></th>\n",
       "      <th>nGames</th>\n",
       "      <th>nTeams</th>\n",
       "      <th>teamAWon</th>\n",
       "      <th>teamsA</th>\n",
       "      <th>teamsB</th>\n",
       "    </tr>\n",
       "  </thead>\n",
       "  <tbody>\n",
       "    <tr>\n",
       "      <th>0</th>\n",
       "      <td>400</td>\n",
       "      <td>5</td>\n",
       "      <td>1</td>\n",
       "      <td>1</td>\n",
       "      <td>0</td>\n",
       "    </tr>\n",
       "    <tr>\n",
       "      <th>1</th>\n",
       "      <td>400</td>\n",
       "      <td>5</td>\n",
       "      <td>1</td>\n",
       "      <td>1</td>\n",
       "      <td>2</td>\n",
       "    </tr>\n",
       "    <tr>\n",
       "      <th>2</th>\n",
       "      <td>400</td>\n",
       "      <td>5</td>\n",
       "      <td>0</td>\n",
       "      <td>2</td>\n",
       "      <td>4</td>\n",
       "    </tr>\n",
       "    <tr>\n",
       "      <th>3</th>\n",
       "      <td>400</td>\n",
       "      <td>5</td>\n",
       "      <td>1</td>\n",
       "      <td>3</td>\n",
       "      <td>1</td>\n",
       "    </tr>\n",
       "    <tr>\n",
       "      <th>4</th>\n",
       "      <td>400</td>\n",
       "      <td>5</td>\n",
       "      <td>1</td>\n",
       "      <td>0</td>\n",
       "      <td>4</td>\n",
       "    </tr>\n",
       "  </tbody>\n",
       "</table>\n",
       "</div>"
      ],
      "text/plain": [
       "   nGames  nTeams  teamAWon  teamsA  teamsB\n",
       "0     400       5         1       1       0\n",
       "1     400       5         1       1       2\n",
       "2     400       5         0       2       4\n",
       "3     400       5         1       3       1\n",
       "4     400       5         1       0       4"
      ]
     },
     "execution_count": 118,
     "metadata": {},
     "output_type": "execute_result"
    }
   ],
   "source": [
    "results.head()"
   ]
  },
  {
   "cell_type": "code",
   "execution_count": 126,
   "metadata": {
    "collapsed": true
   },
   "outputs": [],
   "source": [
    "results.to_csv(\"results-artificial.csv\")"
   ]
  },
  {
   "cell_type": "code",
   "execution_count": 119,
   "metadata": {
    "collapsed": true
   },
   "outputs": [],
   "source": [
    "groupedByA = results.groupby(['teamsA', 'teamsB']).sum().drop(['nTeams'], axis=1)"
   ]
  },
  {
   "cell_type": "code",
   "execution_count": 120,
   "metadata": {
    "collapsed": true
   },
   "outputs": [],
   "source": [
    "groupedByA[\"nGames\"] = groupedByA[\"nGames\"] / n_games"
   ]
  },
  {
   "cell_type": "code",
   "execution_count": 121,
   "metadata": {},
   "outputs": [
    {
     "data": {
      "text/html": [
       "<div>\n",
       "<style scoped>\n",
       "    .dataframe tbody tr th:only-of-type {\n",
       "        vertical-align: middle;\n",
       "    }\n",
       "\n",
       "    .dataframe tbody tr th {\n",
       "        vertical-align: top;\n",
       "    }\n",
       "\n",
       "    .dataframe thead th {\n",
       "        text-align: right;\n",
       "    }\n",
       "</style>\n",
       "<table border=\"1\" class=\"dataframe\">\n",
       "  <thead>\n",
       "    <tr style=\"text-align: right;\">\n",
       "      <th></th>\n",
       "      <th></th>\n",
       "      <th>nGames</th>\n",
       "      <th>teamAWon</th>\n",
       "    </tr>\n",
       "    <tr>\n",
       "      <th>teamsA</th>\n",
       "      <th>teamsB</th>\n",
       "      <th></th>\n",
       "      <th></th>\n",
       "    </tr>\n",
       "  </thead>\n",
       "  <tbody>\n",
       "    <tr>\n",
       "      <th rowspan=\"4\" valign=\"top\">0</th>\n",
       "      <th>1</th>\n",
       "      <td>15.0</td>\n",
       "      <td>1</td>\n",
       "    </tr>\n",
       "    <tr>\n",
       "      <th>2</th>\n",
       "      <td>20.0</td>\n",
       "      <td>20</td>\n",
       "    </tr>\n",
       "    <tr>\n",
       "      <th>3</th>\n",
       "      <td>19.0</td>\n",
       "      <td>0</td>\n",
       "    </tr>\n",
       "    <tr>\n",
       "      <th>4</th>\n",
       "      <td>18.0</td>\n",
       "      <td>14</td>\n",
       "    </tr>\n",
       "    <tr>\n",
       "      <th rowspan=\"4\" valign=\"top\">1</th>\n",
       "      <th>0</th>\n",
       "      <td>22.0</td>\n",
       "      <td>22</td>\n",
       "    </tr>\n",
       "    <tr>\n",
       "      <th>2</th>\n",
       "      <td>20.0</td>\n",
       "      <td>20</td>\n",
       "    </tr>\n",
       "    <tr>\n",
       "      <th>3</th>\n",
       "      <td>23.0</td>\n",
       "      <td>10</td>\n",
       "    </tr>\n",
       "    <tr>\n",
       "      <th>4</th>\n",
       "      <td>21.0</td>\n",
       "      <td>21</td>\n",
       "    </tr>\n",
       "    <tr>\n",
       "      <th rowspan=\"4\" valign=\"top\">2</th>\n",
       "      <th>0</th>\n",
       "      <td>17.0</td>\n",
       "      <td>2</td>\n",
       "    </tr>\n",
       "    <tr>\n",
       "      <th>1</th>\n",
       "      <td>15.0</td>\n",
       "      <td>0</td>\n",
       "    </tr>\n",
       "    <tr>\n",
       "      <th>3</th>\n",
       "      <td>21.0</td>\n",
       "      <td>0</td>\n",
       "    </tr>\n",
       "    <tr>\n",
       "      <th>4</th>\n",
       "      <td>23.0</td>\n",
       "      <td>4</td>\n",
       "    </tr>\n",
       "    <tr>\n",
       "      <th rowspan=\"4\" valign=\"top\">3</th>\n",
       "      <th>0</th>\n",
       "      <td>22.0</td>\n",
       "      <td>22</td>\n",
       "    </tr>\n",
       "    <tr>\n",
       "      <th>1</th>\n",
       "      <td>21.0</td>\n",
       "      <td>9</td>\n",
       "    </tr>\n",
       "    <tr>\n",
       "      <th>2</th>\n",
       "      <td>19.0</td>\n",
       "      <td>19</td>\n",
       "    </tr>\n",
       "    <tr>\n",
       "      <th>4</th>\n",
       "      <td>22.0</td>\n",
       "      <td>22</td>\n",
       "    </tr>\n",
       "    <tr>\n",
       "      <th rowspan=\"4\" valign=\"top\">4</th>\n",
       "      <th>0</th>\n",
       "      <td>23.0</td>\n",
       "      <td>7</td>\n",
       "    </tr>\n",
       "    <tr>\n",
       "      <th>1</th>\n",
       "      <td>22.0</td>\n",
       "      <td>0</td>\n",
       "    </tr>\n",
       "    <tr>\n",
       "      <th>2</th>\n",
       "      <td>16.0</td>\n",
       "      <td>15</td>\n",
       "    </tr>\n",
       "    <tr>\n",
       "      <th>3</th>\n",
       "      <td>21.0</td>\n",
       "      <td>0</td>\n",
       "    </tr>\n",
       "  </tbody>\n",
       "</table>\n",
       "</div>"
      ],
      "text/plain": [
       "               nGames  teamAWon\n",
       "teamsA teamsB                  \n",
       "0      1         15.0         1\n",
       "       2         20.0        20\n",
       "       3         19.0         0\n",
       "       4         18.0        14\n",
       "1      0         22.0        22\n",
       "       2         20.0        20\n",
       "       3         23.0        10\n",
       "       4         21.0        21\n",
       "2      0         17.0         2\n",
       "       1         15.0         0\n",
       "       3         21.0         0\n",
       "       4         23.0         4\n",
       "3      0         22.0        22\n",
       "       1         21.0         9\n",
       "       2         19.0        19\n",
       "       4         22.0        22\n",
       "4      0         23.0         7\n",
       "       1         22.0         0\n",
       "       2         16.0        15\n",
       "       3         21.0         0"
      ]
     },
     "execution_count": 121,
     "metadata": {},
     "output_type": "execute_result"
    }
   ],
   "source": [
    "groupedByA"
   ]
  },
  {
   "cell_type": "code",
   "execution_count": 109,
   "metadata": {
    "collapsed": true
   },
   "outputs": [],
   "source": [
    "ratings_code = \"\"\"\n",
    "data {\n",
    "    int<lower=1> nTeams; // number of teams in the league\n",
    "    int<lower=1> nGames; // number of games in the database\n",
    "    int<lower=0,upper=1> teamAWon[nGames]; // vector of binary outcomes for team A\n",
    "    int<lower=0> teamsA[nGames];\n",
    "    int<lower=0> teamsB[nGames];\n",
    "}\n",
    "parameters {\n",
    "    vector[nTeams] teamSkill; // vector of team skills\n",
    "}\n",
    "model {\n",
    "  real skillDelta[nGames];\n",
    "  for (team in 1:nTeams)\n",
    "    teamSkill[team] ~ normal(0, 1);\n",
    "    \n",
    "  for (game in 1:nGames) {\n",
    "    int indexA;\n",
    "    int indexB;\n",
    "    indexA = teamsA[game] + 1;\n",
    "    indexB = teamsB[game] + 1;\n",
    "    skillDelta[game] = teamSkill[indexA] - teamSkill[indexB];\n",
    "  }\n",
    "  teamAWon ~ bernoulli_logit(skillDelta);\n",
    "}\n",
    "\"\"\""
   ]
  },
  {
   "cell_type": "code",
   "execution_count": 122,
   "metadata": {
    "scrolled": true
   },
   "outputs": [
    {
     "name": "stderr",
     "output_type": "stream",
     "text": [
      "INFO:pystan:COMPILING THE C++ CODE FOR MODEL anon_model_85448368721b7e30f6639f4bc2a64d09 NOW.\n"
     ]
    }
   ],
   "source": [
    "sm = pystan.StanModel(model_code=ratings_code)"
   ]
  },
  {
   "cell_type": "code",
   "execution_count": 123,
   "metadata": {
    "collapsed": true
   },
   "outputs": [],
   "source": [
    "fit = sm.sampling(data=simulated_data, iter=2000, chains=4)"
   ]
  },
  {
   "cell_type": "code",
   "execution_count": 124,
   "metadata": {},
   "outputs": [
    {
     "data": {
      "image/png": "[encoded data removed]",
      "text/plain": [
       "<Figure size 432x288 with 2 Axes>"
      ]
     },
     "metadata": {},
     "output_type": "display_data"
    }
   ],
   "source": [
    "fit.plot()\n",
    "plt.tight_layout()"
   ]
  },
  {
   "cell_type": "code",
   "execution_count": 125,
   "metadata": {},
   "outputs": [
    {
     "name": "stdout",
     "output_type": "stream",
     "text": [
      "Inference for Stan model: anon_model_85448368721b7e30f6639f4bc2a64d09.\n",
      "4 chains, each with iter=2000; warmup=1000; thin=1; \n",
      "post-warmup draws per chain=1000, total post-warmup draws=4000.\n",
      "\n",
      "               mean se_mean     sd   2.5%    25%    50%    75%  97.5%  n_eff   Rhat\n",
      "teamSkill[0]  -0.56    0.01   0.48  -1.51  -0.89  -0.56  -0.23   0.41   1330    1.0\n",
      "teamSkill[1]   2.47    0.01   0.52   1.47   2.13   2.47   2.81    3.5   1411    1.0\n",
      "teamSkill[2]  -3.04    0.01   0.53  -4.09   -3.4  -3.05  -2.68  -2.03   1367    1.0\n",
      "teamSkill[3]   2.51    0.01   0.52   1.51   2.17    2.5   2.84   3.56   1447    1.0\n",
      "teamSkill[4]  -1.42    0.01   0.49  -2.36  -1.75  -1.43  -1.09  -0.47   1352    1.0\n",
      "lp__         -100.6    0.04   1.56 -104.3 -101.3 -100.2 -99.47 -98.53   1780    1.0\n",
      "\n",
      "Samples were drawn using NUTS at Tue May 15 11:30:37 2018.\n",
      "For each parameter, n_eff is a crude measure of effective sample size,\n",
      "and Rhat is the potential scale reduction factor on split chains (at \n",
      "convergence, Rhat=1).\n"
     ]
    }
   ],
   "source": [
    "print(fit)"
   ]
  },
  {
   "cell_type": "code",
   "execution_count": 83,
   "metadata": {},
   "outputs": [
    {
     "data": {
      "text/plain": [
       "['teamSkill[0]', 'teamSkill[1]', 'teamSkill[2]']"
      ]
     },
     "execution_count": 83,
     "metadata": {},
     "output_type": "execute_result"
    }
   ],
   "source": [
    "fit.flatnames"
   ]
  },
  {
   "cell_type": "code",
   "execution_count": 87,
   "metadata": {},
   "outputs": [
    {
     "data": {
      "text/plain": [
       "[OrderedDict([('teamSkill', array([-1.41927736, -1.07636329,  0.59449862]))]),\n",
       " OrderedDict([('teamSkill', array([-1.84594241,  1.83262095, -0.92086792]))]),\n",
       " OrderedDict([('teamSkill', array([ 0.21140071, -1.79929154, -0.15620837]))]),\n",
       " OrderedDict([('teamSkill', array([ 1.81811319,  0.11926067, -1.23340849]))])]"
      ]
     },
     "execution_count": 87,
     "metadata": {},
     "output_type": "execute_result"
    }
   ],
   "source": [
    "fit.get_inits()"
   ]
  },
  {
   "cell_type": "code",
   "execution_count": 95,
   "metadata": {},
   "outputs": [
    {
     "name": "stdout",
     "output_type": "stream",
     "text": [
      "\n",
      "data {\n",
      "    int<lower=1> nTeams; // number of teams in the league\n",
      "    int<lower=1> nGames; // number of games in the database\n",
      "    int<lower=0,upper=1> teamAWon[nGames]; // vector of binary outcomes for team A\n",
      "    int<lower=0> teamsA[nGames];\n",
      "    int<lower=0> teamsB[nGames];\n",
      "}\n",
      "parameters {\n",
      "    vector[nTeams] teamSkill; // vector of team skills\n",
      "}\n",
      "model {\n",
      "  real skillDelta[nGames];\n",
      "  for (team in 1:nTeams)\n",
      "    teamSkill[team] ~ normal(0, 1);\n",
      "    \n",
      "  for (game in 1:nGames) {\n",
      "    int indexA;\n",
      "    int indexB;\n",
      "    indexA = teamsA[game] + 1;\n",
      "    indexB = teamsB[game] + 1;\n",
      "    skillDelta[game] = teamSkill[indexB] - teamSkill[indexA];\n",
      "  }\n",
      "  teamAWon ~ bernoulli_logit(skillDelta);\n",
      "}\n",
      "\n"
     ]
    }
   ],
   "source": [
    "print(fit.get_stancode())"
   ]
  },
  {
   "cell_type": "code",
   "execution_count": null,
   "metadata": {
    "collapsed": true
   },
   "outputs": [],
   "source": []
  }
 ],
 "metadata": {
  "kernelspec": {
   "display_name": "Python 2",
   "language": "python",
   "name": "python2"
  },
  "language_info": {
   "codemirror_mode": {
    "name": "ipython",
    "version": 2
   },
   "file_extension": ".py",
   "mimetype": "text/x-python",
   "name": "python",
   "nbconvert_exporter": "python",
   "pygments_lexer": "ipython2",
   "version": "2.7.13"
  }
 },
 "nbformat": 4,
 "nbformat_minor": 2
}
